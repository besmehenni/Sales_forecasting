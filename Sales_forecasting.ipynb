{
  "nbformat": 4,
  "nbformat_minor": 0,
  "metadata": {
    "colab": {
      "name": "Sales forecasting.ipynb",
      "provenance": [],
      "collapsed_sections": []
    },
    "kernelspec": {
      "name": "python3",
      "display_name": "Python 3"
    }
  },
  "cells": [
    {
      "cell_type": "markdown",
      "metadata": {
        "_cell_guid": "1ca6a26a-a225-44de-a28c-445dbb9395cf",
        "_uuid": "2afc7d05cfcbeeb1fb4a3d4916ad24be9cedef77",
        "id": "I7hEGedRB8Ic"
      },
      "source": [
        "# Time series analysis and forecasting\n",
        " **version 17-12-2020** \n",
        "\n",
        " **Goal:** \n",
        "\n",
        "- Explore the data, handle missing values.\n",
        "- Analysis per store type or per given department for a store type, correlational analysis of activity.\n",
        "- Perform extensive a time serie analysis (seasonal decomposition, trends, autocorrelation). \n",
        "- Model the effects of holidays.\n",
        "- Predict next weeks of sales using Prophet (Facebook methodology).\n"
      ]
    },
    {
      "cell_type": "code",
      "metadata": {
        "_cell_guid": "5a3b3b53-7757-403a-a1d2-8567d8869aaa",
        "_execution_state": "idle",
        "_uuid": "3b14af2f165220db8d2cb6e0684c25b59e03caa2",
        "id": "3B0dc6lfB8Id"
      },
      "source": [
        "import warnings\n",
        "warnings.filterwarnings(\"ignore\")\n",
        "\n",
        "# loading packages\n",
        "# basic + dates \n",
        "import numpy as np\n",
        "import pandas as pd\n",
        "from pandas import datetime\n",
        "\n",
        "# data visualization\n",
        "import matplotlib.pyplot as plt\n",
        "import seaborn as sns # advanced vizs\n",
        "\n",
        "# cloud of words\n",
        "from wordcloud import WordCloud, STOPWORDS \n",
        "\n",
        "# statistics\n",
        "from statsmodels.distributions.empirical_distribution import ECDF\n",
        "\n",
        "# time series analysis\n",
        "from statsmodels.tsa.seasonal import seasonal_decompose\n",
        "from statsmodels.graphics.tsaplots import plot_acf, plot_pacf\n",
        "\n",
        "# prophet by Facebook\n",
        "from fbprophet import Prophet\n",
        "\n",
        "from sklearn.metrics import mean_squared_error, mean_absolute_error\n"
      ],
      "execution_count": null,
      "outputs": []
    },
    {
      "cell_type": "code",
      "metadata": {
        "colab": {
          "base_uri": "https://localhost:8080/"
        },
        "id": "ZATTKgT_FY9n",
        "outputId": "e6185d57-feaf-43bd-8b39-5caa3251b04a"
      },
      "source": [
        "from google.colab import drive\n",
        "drive.mount('/content/drive')"
      ],
      "execution_count": null,
      "outputs": [
        {
          "output_type": "stream",
          "text": [
            "Drive already mounted at /content/drive; to attempt to forcibly remount, call drive.mount(\"/content/drive\", force_remount=True).\n"
          ],
          "name": "stdout"
        }
      ]
    },
    {
      "cell_type": "code",
      "metadata": {
        "id": "nhAVGYgpGf_I"
      },
      "source": [
        "#from google.colab import files\n",
        "#uploaded = files.upload()"
      ],
      "execution_count": null,
      "outputs": []
    },
    {
      "cell_type": "code",
      "metadata": {
        "colab": {
          "base_uri": "https://localhost:8080/"
        },
        "id": "cCav4r3sF0yd",
        "outputId": "0da090de-e692-4bb8-ddb6-ea2be652c9e6"
      },
      "source": [
        "# importing train data to learn\n",
        "features = pd.read_csv('/content/drive/MyDrive/Colab Notebooks/projet retail/Features data set.csv',\n",
        "                       parse_dates = True, low_memory = False, index_col = 'Date')\n",
        "# importing train data to learn\n",
        "sales = pd.read_csv('/content/drive/MyDrive/Colab Notebooks/projet retail/sales data-set.csv',\n",
        "                    parse_dates = True, low_memory = False, index_col = 'Date')\n",
        "# additional store data\n",
        "stores = pd.read_csv('/content/drive/MyDrive/Colab Notebooks/projet retail/stores data-set.csv',\n",
        "                     low_memory = False)\n",
        "\n",
        "# time series as indexes\n",
        "sales.index"
      ],
      "execution_count": null,
      "outputs": [
        {
          "output_type": "execute_result",
          "data": {
            "text/plain": [
              "DatetimeIndex(['2010-05-02', '2010-12-02', '2010-02-19', '2010-02-26',\n",
              "               '2010-05-03', '2010-12-03', '2010-03-19', '2010-03-26',\n",
              "               '2010-02-04', '2010-09-04',\n",
              "               ...\n",
              "               '2012-08-24', '2012-08-31', '2012-07-09', '2012-09-14',\n",
              "               '2012-09-21', '2012-09-28', '2012-05-10', '2012-12-10',\n",
              "               '2012-10-19', '2012-10-26'],\n",
              "              dtype='datetime64[ns]', name='Date', length=421570, freq=None)"
            ]
          },
          "metadata": {
            "tags": []
          },
          "execution_count": 68
        }
      ]
    },
    {
      "cell_type": "code",
      "metadata": {
        "colab": {
          "base_uri": "https://localhost:8080/",
          "height": 227
        },
        "id": "fpGzK365GmSL",
        "outputId": "2026caca-f8d2-47a4-ccbb-0e8bd76286d5"
      },
      "source": [
        "sales.head()"
      ],
      "execution_count": null,
      "outputs": [
        {
          "output_type": "execute_result",
          "data": {
            "text/html": [
              "<div>\n",
              "<style scoped>\n",
              "    .dataframe tbody tr th:only-of-type {\n",
              "        vertical-align: middle;\n",
              "    }\n",
              "\n",
              "    .dataframe tbody tr th {\n",
              "        vertical-align: top;\n",
              "    }\n",
              "\n",
              "    .dataframe thead th {\n",
              "        text-align: right;\n",
              "    }\n",
              "</style>\n",
              "<table border=\"1\" class=\"dataframe\">\n",
              "  <thead>\n",
              "    <tr style=\"text-align: right;\">\n",
              "      <th></th>\n",
              "      <th>Store</th>\n",
              "      <th>Dept</th>\n",
              "      <th>Weekly_Sales</th>\n",
              "      <th>IsHoliday</th>\n",
              "    </tr>\n",
              "    <tr>\n",
              "      <th>Date</th>\n",
              "      <th></th>\n",
              "      <th></th>\n",
              "      <th></th>\n",
              "      <th></th>\n",
              "    </tr>\n",
              "  </thead>\n",
              "  <tbody>\n",
              "    <tr>\n",
              "      <th>2010-05-02</th>\n",
              "      <td>1</td>\n",
              "      <td>1</td>\n",
              "      <td>24924.50</td>\n",
              "      <td>False</td>\n",
              "    </tr>\n",
              "    <tr>\n",
              "      <th>2010-12-02</th>\n",
              "      <td>1</td>\n",
              "      <td>1</td>\n",
              "      <td>46039.49</td>\n",
              "      <td>True</td>\n",
              "    </tr>\n",
              "    <tr>\n",
              "      <th>2010-02-19</th>\n",
              "      <td>1</td>\n",
              "      <td>1</td>\n",
              "      <td>41595.55</td>\n",
              "      <td>False</td>\n",
              "    </tr>\n",
              "    <tr>\n",
              "      <th>2010-02-26</th>\n",
              "      <td>1</td>\n",
              "      <td>1</td>\n",
              "      <td>19403.54</td>\n",
              "      <td>False</td>\n",
              "    </tr>\n",
              "    <tr>\n",
              "      <th>2010-05-03</th>\n",
              "      <td>1</td>\n",
              "      <td>1</td>\n",
              "      <td>21827.90</td>\n",
              "      <td>False</td>\n",
              "    </tr>\n",
              "  </tbody>\n",
              "</table>\n",
              "</div>"
            ],
            "text/plain": [
              "            Store  Dept  Weekly_Sales  IsHoliday\n",
              "Date                                            \n",
              "2010-05-02      1     1      24924.50      False\n",
              "2010-12-02      1     1      46039.49       True\n",
              "2010-02-19      1     1      41595.55      False\n",
              "2010-02-26      1     1      19403.54      False\n",
              "2010-05-03      1     1      21827.90      False"
            ]
          },
          "metadata": {
            "tags": []
          },
          "execution_count": 69
        }
      ]
    },
    {
      "cell_type": "markdown",
      "metadata": {
        "_cell_guid": "1e6bd756-82a9-40b5-8cca-8f4a6fe36ee0",
        "_uuid": "649f9da4af596d880618bed9c67485a9b9c35c37",
        "id": "UVh5EZ1xB8If"
      },
      "source": [
        "## Exploratory Data Analysis "
      ]
    },
    {
      "cell_type": "markdown",
      "metadata": {
        "_cell_guid": "4830f82b-fa4d-4070-ac54-b1d993dbecbf",
        "_uuid": "e36090f02a4a243a210b6df6f46372826a71d61c",
        "id": "DYU6RfGAB8If"
      },
      "source": [
        "In this first section we go through the sales, features and store data, handle missing values."
      ]
    },
    {
      "cell_type": "code",
      "metadata": {
        "colab": {
          "base_uri": "https://localhost:8080/",
          "height": 245
        },
        "id": "EK2rSKg5JPL0",
        "outputId": "b66c6539-b99a-43b7-8f5d-cd9c766636d0"
      },
      "source": [
        "# first glance at the sales set: head\n",
        "print(\"In total: \", sales.shape)\n",
        "sales.head(5)"
      ],
      "execution_count": null,
      "outputs": [
        {
          "output_type": "stream",
          "text": [
            "In total:  (421570, 4)\n"
          ],
          "name": "stdout"
        },
        {
          "output_type": "execute_result",
          "data": {
            "text/html": [
              "<div>\n",
              "<style scoped>\n",
              "    .dataframe tbody tr th:only-of-type {\n",
              "        vertical-align: middle;\n",
              "    }\n",
              "\n",
              "    .dataframe tbody tr th {\n",
              "        vertical-align: top;\n",
              "    }\n",
              "\n",
              "    .dataframe thead th {\n",
              "        text-align: right;\n",
              "    }\n",
              "</style>\n",
              "<table border=\"1\" class=\"dataframe\">\n",
              "  <thead>\n",
              "    <tr style=\"text-align: right;\">\n",
              "      <th></th>\n",
              "      <th>Store</th>\n",
              "      <th>Dept</th>\n",
              "      <th>Weekly_Sales</th>\n",
              "      <th>IsHoliday</th>\n",
              "    </tr>\n",
              "    <tr>\n",
              "      <th>Date</th>\n",
              "      <th></th>\n",
              "      <th></th>\n",
              "      <th></th>\n",
              "      <th></th>\n",
              "    </tr>\n",
              "  </thead>\n",
              "  <tbody>\n",
              "    <tr>\n",
              "      <th>2010-05-02</th>\n",
              "      <td>1</td>\n",
              "      <td>1</td>\n",
              "      <td>24924.50</td>\n",
              "      <td>False</td>\n",
              "    </tr>\n",
              "    <tr>\n",
              "      <th>2010-12-02</th>\n",
              "      <td>1</td>\n",
              "      <td>1</td>\n",
              "      <td>46039.49</td>\n",
              "      <td>True</td>\n",
              "    </tr>\n",
              "    <tr>\n",
              "      <th>2010-02-19</th>\n",
              "      <td>1</td>\n",
              "      <td>1</td>\n",
              "      <td>41595.55</td>\n",
              "      <td>False</td>\n",
              "    </tr>\n",
              "    <tr>\n",
              "      <th>2010-02-26</th>\n",
              "      <td>1</td>\n",
              "      <td>1</td>\n",
              "      <td>19403.54</td>\n",
              "      <td>False</td>\n",
              "    </tr>\n",
              "    <tr>\n",
              "      <th>2010-05-03</th>\n",
              "      <td>1</td>\n",
              "      <td>1</td>\n",
              "      <td>21827.90</td>\n",
              "      <td>False</td>\n",
              "    </tr>\n",
              "  </tbody>\n",
              "</table>\n",
              "</div>"
            ],
            "text/plain": [
              "            Store  Dept  Weekly_Sales  IsHoliday\n",
              "Date                                            \n",
              "2010-05-02      1     1      24924.50      False\n",
              "2010-12-02      1     1      46039.49       True\n",
              "2010-02-19      1     1      41595.55      False\n",
              "2010-02-26      1     1      19403.54      False\n",
              "2010-05-03      1     1      21827.90      False"
            ]
          },
          "metadata": {
            "tags": []
          },
          "execution_count": 70
        }
      ]
    },
    {
      "cell_type": "markdown",
      "metadata": {
        "_cell_guid": "dffb7252-18e1-4923-9670-c08dfe2bcb9d",
        "_uuid": "230f569230fbfb28545ca465cff06f898f7f924f",
        "id": "fJ_SeCXZK7I0"
      },
      "source": [
        "##### Short description\n",
        "\n",
        "Historical sales data, which covers to 2010-02-05 to 2012-11-01. Within this tab you will find the following fields:\n",
        "-\tStore - the store number\n",
        "-\tDept - the department number\n",
        "-\tDate - the week\n",
        "-\tWeekly_Sales -  sales for the given department in the given store\n",
        "-\tIsHoliday - whether the week is a special holiday week\n"
      ]
    },
    {
      "cell_type": "markdown",
      "metadata": {
        "_cell_guid": "1185c5cb-cbeb-46c3-92d3-968946864adf",
        "_uuid": "47ccbc3bb09d565d6c0f9c49187ab7af2b416c55",
        "id": "AOod9IYzB8Ig"
      },
      "source": [
        "We are dealing with time series data on weekly basis, so it will serve us to convert dates in week number."
      ]
    },
    {
      "cell_type": "code",
      "metadata": {
        "id": "UOE-LTqjM-MS"
      },
      "source": [
        "# data extraction\n",
        "sales['WeekOfYear'] = sales.index.weekofyear\n",
        "sales['Year'] = sales.index.year\n",
        "sales['Month'] = sales.index.month"
      ],
      "execution_count": null,
      "outputs": []
    },
    {
      "cell_type": "code",
      "metadata": {
        "colab": {
          "base_uri": "https://localhost:8080/",
          "height": 215
        },
        "id": "P9Nl72L_JWqc",
        "outputId": "160c0398-adb8-4e9c-de80-4c6603ab3143"
      },
      "source": [
        "# first glance at the stores set: head\n",
        "print(\"In total: \", stores.shape)\n",
        "stores.head(5)"
      ],
      "execution_count": null,
      "outputs": [
        {
          "output_type": "stream",
          "text": [
            "In total:  (45, 3)\n"
          ],
          "name": "stdout"
        },
        {
          "output_type": "execute_result",
          "data": {
            "text/html": [
              "<div>\n",
              "<style scoped>\n",
              "    .dataframe tbody tr th:only-of-type {\n",
              "        vertical-align: middle;\n",
              "    }\n",
              "\n",
              "    .dataframe tbody tr th {\n",
              "        vertical-align: top;\n",
              "    }\n",
              "\n",
              "    .dataframe thead th {\n",
              "        text-align: right;\n",
              "    }\n",
              "</style>\n",
              "<table border=\"1\" class=\"dataframe\">\n",
              "  <thead>\n",
              "    <tr style=\"text-align: right;\">\n",
              "      <th></th>\n",
              "      <th>Store</th>\n",
              "      <th>Type</th>\n",
              "      <th>Size</th>\n",
              "    </tr>\n",
              "  </thead>\n",
              "  <tbody>\n",
              "    <tr>\n",
              "      <th>0</th>\n",
              "      <td>1</td>\n",
              "      <td>A</td>\n",
              "      <td>151315</td>\n",
              "    </tr>\n",
              "    <tr>\n",
              "      <th>1</th>\n",
              "      <td>2</td>\n",
              "      <td>A</td>\n",
              "      <td>202307</td>\n",
              "    </tr>\n",
              "    <tr>\n",
              "      <th>2</th>\n",
              "      <td>3</td>\n",
              "      <td>B</td>\n",
              "      <td>37392</td>\n",
              "    </tr>\n",
              "    <tr>\n",
              "      <th>3</th>\n",
              "      <td>4</td>\n",
              "      <td>A</td>\n",
              "      <td>205863</td>\n",
              "    </tr>\n",
              "    <tr>\n",
              "      <th>4</th>\n",
              "      <td>5</td>\n",
              "      <td>B</td>\n",
              "      <td>34875</td>\n",
              "    </tr>\n",
              "  </tbody>\n",
              "</table>\n",
              "</div>"
            ],
            "text/plain": [
              "   Store Type    Size\n",
              "0      1    A  151315\n",
              "1      2    A  202307\n",
              "2      3    B   37392\n",
              "3      4    A  205863\n",
              "4      5    B   34875"
            ]
          },
          "metadata": {
            "tags": []
          },
          "execution_count": 72
        }
      ]
    },
    {
      "cell_type": "markdown",
      "metadata": {
        "id": "VyG7ocJLDzD6"
      },
      "source": [
        "Short description\n",
        "\n",
        "Anonymized information about the 45 stores, indicating the type and size of store"
      ]
    },
    {
      "cell_type": "code",
      "metadata": {
        "colab": {
          "base_uri": "https://localhost:8080/",
          "height": 245
        },
        "id": "dRUNlIT0JgFR",
        "outputId": "a60db728-b947-4447-e735-250e63e691f6"
      },
      "source": [
        "# first glance at the features set: head and tail\n",
        "print(\"In total: \", features.shape)\n",
        "features.head(5)"
      ],
      "execution_count": null,
      "outputs": [
        {
          "output_type": "stream",
          "text": [
            "In total:  (8190, 11)\n"
          ],
          "name": "stdout"
        },
        {
          "output_type": "execute_result",
          "data": {
            "text/html": [
              "<div>\n",
              "<style scoped>\n",
              "    .dataframe tbody tr th:only-of-type {\n",
              "        vertical-align: middle;\n",
              "    }\n",
              "\n",
              "    .dataframe tbody tr th {\n",
              "        vertical-align: top;\n",
              "    }\n",
              "\n",
              "    .dataframe thead th {\n",
              "        text-align: right;\n",
              "    }\n",
              "</style>\n",
              "<table border=\"1\" class=\"dataframe\">\n",
              "  <thead>\n",
              "    <tr style=\"text-align: right;\">\n",
              "      <th></th>\n",
              "      <th>Store</th>\n",
              "      <th>Temperature</th>\n",
              "      <th>Fuel_Price</th>\n",
              "      <th>MarkDown1</th>\n",
              "      <th>MarkDown2</th>\n",
              "      <th>MarkDown3</th>\n",
              "      <th>MarkDown4</th>\n",
              "      <th>MarkDown5</th>\n",
              "      <th>CPI</th>\n",
              "      <th>Unemployment</th>\n",
              "      <th>IsHoliday</th>\n",
              "    </tr>\n",
              "    <tr>\n",
              "      <th>Date</th>\n",
              "      <th></th>\n",
              "      <th></th>\n",
              "      <th></th>\n",
              "      <th></th>\n",
              "      <th></th>\n",
              "      <th></th>\n",
              "      <th></th>\n",
              "      <th></th>\n",
              "      <th></th>\n",
              "      <th></th>\n",
              "      <th></th>\n",
              "    </tr>\n",
              "  </thead>\n",
              "  <tbody>\n",
              "    <tr>\n",
              "      <th>2010-05-02</th>\n",
              "      <td>1</td>\n",
              "      <td>42.31</td>\n",
              "      <td>2.572</td>\n",
              "      <td>NaN</td>\n",
              "      <td>NaN</td>\n",
              "      <td>NaN</td>\n",
              "      <td>NaN</td>\n",
              "      <td>NaN</td>\n",
              "      <td>211.096358</td>\n",
              "      <td>8.106</td>\n",
              "      <td>False</td>\n",
              "    </tr>\n",
              "    <tr>\n",
              "      <th>2010-12-02</th>\n",
              "      <td>1</td>\n",
              "      <td>38.51</td>\n",
              "      <td>2.548</td>\n",
              "      <td>NaN</td>\n",
              "      <td>NaN</td>\n",
              "      <td>NaN</td>\n",
              "      <td>NaN</td>\n",
              "      <td>NaN</td>\n",
              "      <td>211.242170</td>\n",
              "      <td>8.106</td>\n",
              "      <td>True</td>\n",
              "    </tr>\n",
              "    <tr>\n",
              "      <th>2010-02-19</th>\n",
              "      <td>1</td>\n",
              "      <td>39.93</td>\n",
              "      <td>2.514</td>\n",
              "      <td>NaN</td>\n",
              "      <td>NaN</td>\n",
              "      <td>NaN</td>\n",
              "      <td>NaN</td>\n",
              "      <td>NaN</td>\n",
              "      <td>211.289143</td>\n",
              "      <td>8.106</td>\n",
              "      <td>False</td>\n",
              "    </tr>\n",
              "    <tr>\n",
              "      <th>2010-02-26</th>\n",
              "      <td>1</td>\n",
              "      <td>46.63</td>\n",
              "      <td>2.561</td>\n",
              "      <td>NaN</td>\n",
              "      <td>NaN</td>\n",
              "      <td>NaN</td>\n",
              "      <td>NaN</td>\n",
              "      <td>NaN</td>\n",
              "      <td>211.319643</td>\n",
              "      <td>8.106</td>\n",
              "      <td>False</td>\n",
              "    </tr>\n",
              "    <tr>\n",
              "      <th>2010-05-03</th>\n",
              "      <td>1</td>\n",
              "      <td>46.50</td>\n",
              "      <td>2.625</td>\n",
              "      <td>NaN</td>\n",
              "      <td>NaN</td>\n",
              "      <td>NaN</td>\n",
              "      <td>NaN</td>\n",
              "      <td>NaN</td>\n",
              "      <td>211.350143</td>\n",
              "      <td>8.106</td>\n",
              "      <td>False</td>\n",
              "    </tr>\n",
              "  </tbody>\n",
              "</table>\n",
              "</div>"
            ],
            "text/plain": [
              "            Store  Temperature  Fuel_Price  ...         CPI  Unemployment  IsHoliday\n",
              "Date                                        ...                                     \n",
              "2010-05-02      1        42.31       2.572  ...  211.096358         8.106      False\n",
              "2010-12-02      1        38.51       2.548  ...  211.242170         8.106       True\n",
              "2010-02-19      1        39.93       2.514  ...  211.289143         8.106      False\n",
              "2010-02-26      1        46.63       2.561  ...  211.319643         8.106      False\n",
              "2010-05-03      1        46.50       2.625  ...  211.350143         8.106      False\n",
              "\n",
              "[5 rows x 11 columns]"
            ]
          },
          "metadata": {
            "tags": []
          },
          "execution_count": 73
        }
      ]
    },
    {
      "cell_type": "markdown",
      "metadata": {
        "_cell_guid": "dffb7252-18e1-4923-9670-c08dfe2bcb9d",
        "_uuid": "230f569230fbfb28545ca465cff06f898f7f924f",
        "id": "hH0V7320B8Ig"
      },
      "source": [
        "##### Short description\n",
        "\n",
        "Contains additional data related to the store, department, and regional activity for the given dates.\n",
        "-\tStore - the store number\n",
        "-\tDate - the week\n",
        "-\tTemperature - average temperature in the region\n",
        "-\tFuel_Price - cost of fuel in the region\n",
        "-\tMarkDown1-5 - anonymized data related to promotional markdowns. MarkDown data is only available after Nov 2011, and is not available for all stores all the time. Any missing value is marked with an NA\n",
        "-\tCPI - the consumer price index\n",
        "-\tUnemployment - the unemployment rate\n",
        "-\tIsHoliday - whether the week is a special holiday week"
      ]
    },
    {
      "cell_type": "markdown",
      "metadata": {
        "_cell_guid": "f7c3ed93-31ae-4f3e-8bb4-3f2abb55f4b8",
        "_uuid": "28d33f9fc89c3c875acd17a9ccb601b915034ffd",
        "id": "AEDobOCnB8Ih"
      },
      "source": [
        "### Missing values "
      ]
    },
    {
      "cell_type": "code",
      "metadata": {
        "colab": {
          "base_uri": "https://localhost:8080/"
        },
        "id": "dJbLnVybRZxx",
        "outputId": "c300df40-32cc-4683-f8d2-c92d1c29fa5d"
      },
      "source": [
        "# missing values?\n",
        "features.isnull().sum()"
      ],
      "execution_count": null,
      "outputs": [
        {
          "output_type": "execute_result",
          "data": {
            "text/plain": [
              "Store              0\n",
              "Temperature        0\n",
              "Fuel_Price         0\n",
              "MarkDown1       4158\n",
              "MarkDown2       5269\n",
              "MarkDown3       4577\n",
              "MarkDown4       4726\n",
              "MarkDown5       4140\n",
              "CPI              585\n",
              "Unemployment     585\n",
              "IsHoliday          0\n",
              "dtype: int64"
            ]
          },
          "metadata": {
            "tags": []
          },
          "execution_count": 74
        }
      ]
    },
    {
      "cell_type": "markdown",
      "metadata": {
        "_cell_guid": "25a2875e-9bde-4c12-951c-c7c72ca6f655",
        "_uuid": "3d905023b0b5944d6907249ca3c08d9efba5ca43",
        "id": "5xOLB1CvB8Ij"
      },
      "source": [
        "We have few variables with missing values that we need to deal with. Let's start with the `MarkDown1/2/3/4/5'."
      ]
    },
    {
      "cell_type": "code",
      "metadata": {
        "colab": {
          "base_uri": "https://localhost:8080/",
          "height": 436
        },
        "id": "c4YpVmT6SkJQ",
        "outputId": "64324510-82cf-4439-9d62-29acc9014a95"
      },
      "source": [
        "# missing values in MarkDown1 or MarkDown2 or MarkDown3 or MarkDown4 or MarkDown5\n",
        "features[pd.isnull(features.MarkDown1) | pd.isnull(features.MarkDown2) | pd.isnull(features.MarkDown3) | pd.isnull(features.MarkDown4) | pd.isnull(features.MarkDown5)]"
      ],
      "execution_count": null,
      "outputs": [
        {
          "output_type": "execute_result",
          "data": {
            "text/html": [
              "<div>\n",
              "<style scoped>\n",
              "    .dataframe tbody tr th:only-of-type {\n",
              "        vertical-align: middle;\n",
              "    }\n",
              "\n",
              "    .dataframe tbody tr th {\n",
              "        vertical-align: top;\n",
              "    }\n",
              "\n",
              "    .dataframe thead th {\n",
              "        text-align: right;\n",
              "    }\n",
              "</style>\n",
              "<table border=\"1\" class=\"dataframe\">\n",
              "  <thead>\n",
              "    <tr style=\"text-align: right;\">\n",
              "      <th></th>\n",
              "      <th>Store</th>\n",
              "      <th>Temperature</th>\n",
              "      <th>Fuel_Price</th>\n",
              "      <th>MarkDown1</th>\n",
              "      <th>MarkDown2</th>\n",
              "      <th>MarkDown3</th>\n",
              "      <th>MarkDown4</th>\n",
              "      <th>MarkDown5</th>\n",
              "      <th>CPI</th>\n",
              "      <th>Unemployment</th>\n",
              "      <th>IsHoliday</th>\n",
              "    </tr>\n",
              "    <tr>\n",
              "      <th>Date</th>\n",
              "      <th></th>\n",
              "      <th></th>\n",
              "      <th></th>\n",
              "      <th></th>\n",
              "      <th></th>\n",
              "      <th></th>\n",
              "      <th></th>\n",
              "      <th></th>\n",
              "      <th></th>\n",
              "      <th></th>\n",
              "      <th></th>\n",
              "    </tr>\n",
              "  </thead>\n",
              "  <tbody>\n",
              "    <tr>\n",
              "      <th>2010-05-02</th>\n",
              "      <td>1</td>\n",
              "      <td>42.31</td>\n",
              "      <td>2.572</td>\n",
              "      <td>NaN</td>\n",
              "      <td>NaN</td>\n",
              "      <td>NaN</td>\n",
              "      <td>NaN</td>\n",
              "      <td>NaN</td>\n",
              "      <td>211.096358</td>\n",
              "      <td>8.106</td>\n",
              "      <td>False</td>\n",
              "    </tr>\n",
              "    <tr>\n",
              "      <th>2010-12-02</th>\n",
              "      <td>1</td>\n",
              "      <td>38.51</td>\n",
              "      <td>2.548</td>\n",
              "      <td>NaN</td>\n",
              "      <td>NaN</td>\n",
              "      <td>NaN</td>\n",
              "      <td>NaN</td>\n",
              "      <td>NaN</td>\n",
              "      <td>211.242170</td>\n",
              "      <td>8.106</td>\n",
              "      <td>True</td>\n",
              "    </tr>\n",
              "    <tr>\n",
              "      <th>2010-02-19</th>\n",
              "      <td>1</td>\n",
              "      <td>39.93</td>\n",
              "      <td>2.514</td>\n",
              "      <td>NaN</td>\n",
              "      <td>NaN</td>\n",
              "      <td>NaN</td>\n",
              "      <td>NaN</td>\n",
              "      <td>NaN</td>\n",
              "      <td>211.289143</td>\n",
              "      <td>8.106</td>\n",
              "      <td>False</td>\n",
              "    </tr>\n",
              "    <tr>\n",
              "      <th>2010-02-26</th>\n",
              "      <td>1</td>\n",
              "      <td>46.63</td>\n",
              "      <td>2.561</td>\n",
              "      <td>NaN</td>\n",
              "      <td>NaN</td>\n",
              "      <td>NaN</td>\n",
              "      <td>NaN</td>\n",
              "      <td>NaN</td>\n",
              "      <td>211.319643</td>\n",
              "      <td>8.106</td>\n",
              "      <td>False</td>\n",
              "    </tr>\n",
              "    <tr>\n",
              "      <th>2010-05-03</th>\n",
              "      <td>1</td>\n",
              "      <td>46.50</td>\n",
              "      <td>2.625</td>\n",
              "      <td>NaN</td>\n",
              "      <td>NaN</td>\n",
              "      <td>NaN</td>\n",
              "      <td>NaN</td>\n",
              "      <td>NaN</td>\n",
              "      <td>211.350143</td>\n",
              "      <td>8.106</td>\n",
              "      <td>False</td>\n",
              "    </tr>\n",
              "    <tr>\n",
              "      <th>...</th>\n",
              "      <td>...</td>\n",
              "      <td>...</td>\n",
              "      <td>...</td>\n",
              "      <td>...</td>\n",
              "      <td>...</td>\n",
              "      <td>...</td>\n",
              "      <td>...</td>\n",
              "      <td>...</td>\n",
              "      <td>...</td>\n",
              "      <td>...</td>\n",
              "      <td>...</td>\n",
              "    </tr>\n",
              "    <tr>\n",
              "      <th>2012-12-21</th>\n",
              "      <td>45</td>\n",
              "      <td>43.54</td>\n",
              "      <td>3.577</td>\n",
              "      <td>4187.83</td>\n",
              "      <td>NaN</td>\n",
              "      <td>238.00</td>\n",
              "      <td>92.68</td>\n",
              "      <td>2977.33</td>\n",
              "      <td>192.458906</td>\n",
              "      <td>8.667</td>\n",
              "      <td>False</td>\n",
              "    </tr>\n",
              "    <tr>\n",
              "      <th>2013-03-15</th>\n",
              "      <td>45</td>\n",
              "      <td>42.81</td>\n",
              "      <td>3.834</td>\n",
              "      <td>9867.03</td>\n",
              "      <td>NaN</td>\n",
              "      <td>11.08</td>\n",
              "      <td>912.87</td>\n",
              "      <td>1360.36</td>\n",
              "      <td>193.296277</td>\n",
              "      <td>8.625</td>\n",
              "      <td>False</td>\n",
              "    </tr>\n",
              "    <tr>\n",
              "      <th>2013-03-22</th>\n",
              "      <td>45</td>\n",
              "      <td>36.55</td>\n",
              "      <td>3.800</td>\n",
              "      <td>11923.74</td>\n",
              "      <td>NaN</td>\n",
              "      <td>308.00</td>\n",
              "      <td>1764.47</td>\n",
              "      <td>1647.31</td>\n",
              "      <td>193.369533</td>\n",
              "      <td>8.625</td>\n",
              "      <td>False</td>\n",
              "    </tr>\n",
              "    <tr>\n",
              "      <th>2013-03-29</th>\n",
              "      <td>45</td>\n",
              "      <td>40.68</td>\n",
              "      <td>3.784</td>\n",
              "      <td>5444.00</td>\n",
              "      <td>NaN</td>\n",
              "      <td>350.84</td>\n",
              "      <td>53.90</td>\n",
              "      <td>1722.11</td>\n",
              "      <td>193.442790</td>\n",
              "      <td>8.625</td>\n",
              "      <td>False</td>\n",
              "    </tr>\n",
              "    <tr>\n",
              "      <th>2013-04-26</th>\n",
              "      <td>45</td>\n",
              "      <td>50.64</td>\n",
              "      <td>3.615</td>\n",
              "      <td>1260.65</td>\n",
              "      <td>NaN</td>\n",
              "      <td>57.52</td>\n",
              "      <td>40.51</td>\n",
              "      <td>2476.18</td>\n",
              "      <td>193.589304</td>\n",
              "      <td>8.335</td>\n",
              "      <td>False</td>\n",
              "    </tr>\n",
              "  </tbody>\n",
              "</table>\n",
              "<p>5670 rows × 11 columns</p>\n",
              "</div>"
            ],
            "text/plain": [
              "            Store  Temperature  Fuel_Price  ...         CPI  Unemployment  IsHoliday\n",
              "Date                                        ...                                     \n",
              "2010-05-02      1        42.31       2.572  ...  211.096358         8.106      False\n",
              "2010-12-02      1        38.51       2.548  ...  211.242170         8.106       True\n",
              "2010-02-19      1        39.93       2.514  ...  211.289143         8.106      False\n",
              "2010-02-26      1        46.63       2.561  ...  211.319643         8.106      False\n",
              "2010-05-03      1        46.50       2.625  ...  211.350143         8.106      False\n",
              "...           ...          ...         ...  ...         ...           ...        ...\n",
              "2012-12-21     45        43.54       3.577  ...  192.458906         8.667      False\n",
              "2013-03-15     45        42.81       3.834  ...  193.296277         8.625      False\n",
              "2013-03-22     45        36.55       3.800  ...  193.369533         8.625      False\n",
              "2013-03-29     45        40.68       3.784  ...  193.442790         8.625      False\n",
              "2013-04-26     45        50.64       3.615  ...  193.589304         8.335      False\n",
              "\n",
              "[5670 rows x 11 columns]"
            ]
          },
          "metadata": {
            "tags": []
          },
          "execution_count": 75
        }
      ]
    },
    {
      "cell_type": "markdown",
      "metadata": {
        "_cell_guid": "6c92faa1-5c1c-4b7b-91db-e80e2defc7ec",
        "_uuid": "a5a2d06ab4a4576bcc17aae21646b777e3ade214",
        "id": "aOUtu6BvB8Ik"
      },
      "source": [
        "No, if there's no promotional markdown then there is no `MarkDown1/2/3/4/5'. We can replace these values by zeros."
      ]
    },
    {
      "cell_type": "code",
      "metadata": {
        "id": "J9WPdOr1Ub9r",
        "colab": {
          "base_uri": "https://localhost:8080/"
        },
        "outputId": "b93fea23-466c-4579-9d0b-1f1d416a75b8"
      },
      "source": [
        "# replace NA's by \n",
        "Markdowns = ['MarkDown1','MarkDown2','MarkDown3','MarkDown4','MarkDown5']\n",
        "[features[_markdown].fillna(0, inplace = True) for _markdown in Markdowns]\n",
        "\n",
        "#features.MarkDown1.fillna(0, inplace = True)\n",
        "#features.MarkDown2.fillna(0, inplace = True)\n",
        "#features.MarkDown3.fillna(0, inplace = True)\n",
        "#features.MarkDown4.fillna(0, inplace = True)\n",
        "#features.MarkDown5.fillna(0, inplace = True)"
      ],
      "execution_count": null,
      "outputs": [
        {
          "output_type": "execute_result",
          "data": {
            "text/plain": [
              "[None, None, None, None, None]"
            ]
          },
          "metadata": {
            "tags": []
          },
          "execution_count": 76
        }
      ]
    },
    {
      "cell_type": "markdown",
      "metadata": {
        "_cell_guid": "6c92faa1-5c1c-4b7b-91db-e80e2defc7ec",
        "_uuid": "a5a2d06ab4a4576bcc17aae21646b777e3ade214",
        "id": "slP-tnrIabJR"
      },
      "source": [
        "The quantity of missing 'CPI' data is equal to quantity of missing 'Unemployment' data. Do they correspond to the same records? "
      ]
    },
    {
      "cell_type": "code",
      "metadata": {
        "colab": {
          "base_uri": "https://localhost:8080/"
        },
        "id": "GQXgsh65ar6j",
        "outputId": "b21a6a01-5a10-4536-8c1d-d80247126aaa"
      },
      "source": [
        "# no CPI = no unemployment data ?\n",
        "empty_CPI = features[pd.isnull(features.CPI)]\n",
        "empty_CPI[empty_CPI.Unemployment != 0].shape"
      ],
      "execution_count": null,
      "outputs": [
        {
          "output_type": "execute_result",
          "data": {
            "text/plain": [
              "(585, 11)"
            ]
          },
          "metadata": {
            "tags": []
          },
          "execution_count": 77
        }
      ]
    },
    {
      "cell_type": "markdown",
      "metadata": {
        "_cell_guid": "6c92faa1-5c1c-4b7b-91db-e80e2defc7ec",
        "_uuid": "a5a2d06ab4a4576bcc17aae21646b777e3ade214",
        "id": "h61M7mR2nUKm"
      },
      "source": [
        "Not the same records. Apparently this information is simply missing from the data. No particular pattern observed. In this case, it makes a complete sense to replace NaN with the median values."
      ]
    },
    {
      "cell_type": "code",
      "metadata": {
        "id": "sm_RAXYyoGOT"
      },
      "source": [
        "# fill NaN with a median value (skewed distribution)\n",
        "features['CPI'].fillna(features['CPI'].median(), inplace = True)\n",
        "features['Unemployment'].fillna(features['Unemployment'].median(), inplace = True)"
      ],
      "execution_count": null,
      "outputs": []
    },
    {
      "cell_type": "code",
      "metadata": {
        "colab": {
          "base_uri": "https://localhost:8080/"
        },
        "id": "t_l8y9GzQ_Vx",
        "outputId": "86e9b956-9bc4-409d-a967-de1003fbcb6a"
      },
      "source": [
        "# what is the unit of temperature. °C or°F?\n",
        "features.Temperature.max()"
      ],
      "execution_count": null,
      "outputs": [
        {
          "output_type": "execute_result",
          "data": {
            "text/plain": [
              "101.95"
            ]
          },
          "metadata": {
            "tags": []
          },
          "execution_count": 79
        }
      ]
    },
    {
      "cell_type": "code",
      "metadata": {
        "id": "s15F96d7HeDX"
      },
      "source": [
        "#conversion of temperature into °C\n",
        "features['Temperature'] = features['Temperature'].apply(lambda X : np.round((X-32)*5/9, 1))"
      ],
      "execution_count": null,
      "outputs": []
    },
    {
      "cell_type": "code",
      "metadata": {
        "colab": {
          "base_uri": "https://localhost:8080/",
          "height": 263
        },
        "id": "ohhammg1IIr6",
        "outputId": "59851c55-e313-4310-b852-832fc60b6c22"
      },
      "source": [
        "print(\"Joining features set with additional store information.\")\n",
        "\n",
        "# by specifying inner join we make sure that only those observations \n",
        "# that are present in both train and store sets are merged together\n",
        "features_store = features.reset_index().merge(stores, how='inner', on='Store').set_index('Date')\n",
        "print(\"In total: \", features_store.shape)\n",
        "features_store.head()"
      ],
      "execution_count": null,
      "outputs": [
        {
          "output_type": "stream",
          "text": [
            "Joining features set with additional store information.\n",
            "In total:  (8190, 13)\n"
          ],
          "name": "stdout"
        },
        {
          "output_type": "execute_result",
          "data": {
            "text/html": [
              "<div>\n",
              "<style scoped>\n",
              "    .dataframe tbody tr th:only-of-type {\n",
              "        vertical-align: middle;\n",
              "    }\n",
              "\n",
              "    .dataframe tbody tr th {\n",
              "        vertical-align: top;\n",
              "    }\n",
              "\n",
              "    .dataframe thead th {\n",
              "        text-align: right;\n",
              "    }\n",
              "</style>\n",
              "<table border=\"1\" class=\"dataframe\">\n",
              "  <thead>\n",
              "    <tr style=\"text-align: right;\">\n",
              "      <th></th>\n",
              "      <th>Store</th>\n",
              "      <th>Temperature</th>\n",
              "      <th>Fuel_Price</th>\n",
              "      <th>MarkDown1</th>\n",
              "      <th>MarkDown2</th>\n",
              "      <th>MarkDown3</th>\n",
              "      <th>MarkDown4</th>\n",
              "      <th>MarkDown5</th>\n",
              "      <th>CPI</th>\n",
              "      <th>Unemployment</th>\n",
              "      <th>IsHoliday</th>\n",
              "      <th>Type</th>\n",
              "      <th>Size</th>\n",
              "    </tr>\n",
              "    <tr>\n",
              "      <th>Date</th>\n",
              "      <th></th>\n",
              "      <th></th>\n",
              "      <th></th>\n",
              "      <th></th>\n",
              "      <th></th>\n",
              "      <th></th>\n",
              "      <th></th>\n",
              "      <th></th>\n",
              "      <th></th>\n",
              "      <th></th>\n",
              "      <th></th>\n",
              "      <th></th>\n",
              "      <th></th>\n",
              "    </tr>\n",
              "  </thead>\n",
              "  <tbody>\n",
              "    <tr>\n",
              "      <th>2010-05-02</th>\n",
              "      <td>1</td>\n",
              "      <td>5.7</td>\n",
              "      <td>2.572</td>\n",
              "      <td>0.0</td>\n",
              "      <td>0.0</td>\n",
              "      <td>0.0</td>\n",
              "      <td>0.0</td>\n",
              "      <td>0.0</td>\n",
              "      <td>211.096358</td>\n",
              "      <td>8.106</td>\n",
              "      <td>False</td>\n",
              "      <td>A</td>\n",
              "      <td>151315</td>\n",
              "    </tr>\n",
              "    <tr>\n",
              "      <th>2010-12-02</th>\n",
              "      <td>1</td>\n",
              "      <td>3.6</td>\n",
              "      <td>2.548</td>\n",
              "      <td>0.0</td>\n",
              "      <td>0.0</td>\n",
              "      <td>0.0</td>\n",
              "      <td>0.0</td>\n",
              "      <td>0.0</td>\n",
              "      <td>211.242170</td>\n",
              "      <td>8.106</td>\n",
              "      <td>True</td>\n",
              "      <td>A</td>\n",
              "      <td>151315</td>\n",
              "    </tr>\n",
              "    <tr>\n",
              "      <th>2010-02-19</th>\n",
              "      <td>1</td>\n",
              "      <td>4.4</td>\n",
              "      <td>2.514</td>\n",
              "      <td>0.0</td>\n",
              "      <td>0.0</td>\n",
              "      <td>0.0</td>\n",
              "      <td>0.0</td>\n",
              "      <td>0.0</td>\n",
              "      <td>211.289143</td>\n",
              "      <td>8.106</td>\n",
              "      <td>False</td>\n",
              "      <td>A</td>\n",
              "      <td>151315</td>\n",
              "    </tr>\n",
              "    <tr>\n",
              "      <th>2010-02-26</th>\n",
              "      <td>1</td>\n",
              "      <td>8.1</td>\n",
              "      <td>2.561</td>\n",
              "      <td>0.0</td>\n",
              "      <td>0.0</td>\n",
              "      <td>0.0</td>\n",
              "      <td>0.0</td>\n",
              "      <td>0.0</td>\n",
              "      <td>211.319643</td>\n",
              "      <td>8.106</td>\n",
              "      <td>False</td>\n",
              "      <td>A</td>\n",
              "      <td>151315</td>\n",
              "    </tr>\n",
              "    <tr>\n",
              "      <th>2010-05-03</th>\n",
              "      <td>1</td>\n",
              "      <td>8.1</td>\n",
              "      <td>2.625</td>\n",
              "      <td>0.0</td>\n",
              "      <td>0.0</td>\n",
              "      <td>0.0</td>\n",
              "      <td>0.0</td>\n",
              "      <td>0.0</td>\n",
              "      <td>211.350143</td>\n",
              "      <td>8.106</td>\n",
              "      <td>False</td>\n",
              "      <td>A</td>\n",
              "      <td>151315</td>\n",
              "    </tr>\n",
              "  </tbody>\n",
              "</table>\n",
              "</div>"
            ],
            "text/plain": [
              "            Store  Temperature  Fuel_Price  ...  IsHoliday  Type    Size\n",
              "Date                                        ...                         \n",
              "2010-05-02      1          5.7       2.572  ...      False     A  151315\n",
              "2010-12-02      1          3.6       2.548  ...       True     A  151315\n",
              "2010-02-19      1          4.4       2.514  ...      False     A  151315\n",
              "2010-02-26      1          8.1       2.561  ...      False     A  151315\n",
              "2010-05-03      1          8.1       2.625  ...      False     A  151315\n",
              "\n",
              "[5 rows x 13 columns]"
            ]
          },
          "metadata": {
            "tags": []
          },
          "execution_count": 81
        }
      ]
    },
    {
      "cell_type": "code",
      "metadata": {
        "colab": {
          "base_uri": "https://localhost:8080/",
          "height": 273
        },
        "id": "1uBS5OjCKcvo",
        "outputId": "2522e832-648b-493f-8c23-33c6cc8454a9"
      },
      "source": [
        "print(\"Joining sales set with features_store set.\")\n",
        "\n",
        "# by specifying inner join we make sure that only those observations \n",
        "# that are present in both train and store sets are merged together\n",
        "sales_feat = pd.merge(sales, features_store, how = 'left', on = ['Date','Store','IsHoliday'])\n",
        "\n",
        "print(\"In total: \", sales_feat.shape)\n",
        "sales_feat.head(3)"
      ],
      "execution_count": null,
      "outputs": [
        {
          "output_type": "stream",
          "text": [
            "Joining sales set with features_store set.\n",
            "In total:  (421570, 18)\n"
          ],
          "name": "stdout"
        },
        {
          "output_type": "execute_result",
          "data": {
            "text/html": [
              "<div>\n",
              "<style scoped>\n",
              "    .dataframe tbody tr th:only-of-type {\n",
              "        vertical-align: middle;\n",
              "    }\n",
              "\n",
              "    .dataframe tbody tr th {\n",
              "        vertical-align: top;\n",
              "    }\n",
              "\n",
              "    .dataframe thead th {\n",
              "        text-align: right;\n",
              "    }\n",
              "</style>\n",
              "<table border=\"1\" class=\"dataframe\">\n",
              "  <thead>\n",
              "    <tr style=\"text-align: right;\">\n",
              "      <th></th>\n",
              "      <th>Store</th>\n",
              "      <th>Dept</th>\n",
              "      <th>Weekly_Sales</th>\n",
              "      <th>IsHoliday</th>\n",
              "      <th>WeekOfYear</th>\n",
              "      <th>Year</th>\n",
              "      <th>Month</th>\n",
              "      <th>Temperature</th>\n",
              "      <th>Fuel_Price</th>\n",
              "      <th>MarkDown1</th>\n",
              "      <th>MarkDown2</th>\n",
              "      <th>MarkDown3</th>\n",
              "      <th>MarkDown4</th>\n",
              "      <th>MarkDown5</th>\n",
              "      <th>CPI</th>\n",
              "      <th>Unemployment</th>\n",
              "      <th>Type</th>\n",
              "      <th>Size</th>\n",
              "    </tr>\n",
              "    <tr>\n",
              "      <th>Date</th>\n",
              "      <th></th>\n",
              "      <th></th>\n",
              "      <th></th>\n",
              "      <th></th>\n",
              "      <th></th>\n",
              "      <th></th>\n",
              "      <th></th>\n",
              "      <th></th>\n",
              "      <th></th>\n",
              "      <th></th>\n",
              "      <th></th>\n",
              "      <th></th>\n",
              "      <th></th>\n",
              "      <th></th>\n",
              "      <th></th>\n",
              "      <th></th>\n",
              "      <th></th>\n",
              "      <th></th>\n",
              "    </tr>\n",
              "  </thead>\n",
              "  <tbody>\n",
              "    <tr>\n",
              "      <th>2010-05-02</th>\n",
              "      <td>1</td>\n",
              "      <td>1</td>\n",
              "      <td>24924.50</td>\n",
              "      <td>False</td>\n",
              "      <td>17</td>\n",
              "      <td>2010</td>\n",
              "      <td>5</td>\n",
              "      <td>5.7</td>\n",
              "      <td>2.572</td>\n",
              "      <td>0.0</td>\n",
              "      <td>0.0</td>\n",
              "      <td>0.0</td>\n",
              "      <td>0.0</td>\n",
              "      <td>0.0</td>\n",
              "      <td>211.096358</td>\n",
              "      <td>8.106</td>\n",
              "      <td>A</td>\n",
              "      <td>151315</td>\n",
              "    </tr>\n",
              "    <tr>\n",
              "      <th>2010-12-02</th>\n",
              "      <td>1</td>\n",
              "      <td>1</td>\n",
              "      <td>46039.49</td>\n",
              "      <td>True</td>\n",
              "      <td>48</td>\n",
              "      <td>2010</td>\n",
              "      <td>12</td>\n",
              "      <td>3.6</td>\n",
              "      <td>2.548</td>\n",
              "      <td>0.0</td>\n",
              "      <td>0.0</td>\n",
              "      <td>0.0</td>\n",
              "      <td>0.0</td>\n",
              "      <td>0.0</td>\n",
              "      <td>211.242170</td>\n",
              "      <td>8.106</td>\n",
              "      <td>A</td>\n",
              "      <td>151315</td>\n",
              "    </tr>\n",
              "    <tr>\n",
              "      <th>2010-02-19</th>\n",
              "      <td>1</td>\n",
              "      <td>1</td>\n",
              "      <td>41595.55</td>\n",
              "      <td>False</td>\n",
              "      <td>7</td>\n",
              "      <td>2010</td>\n",
              "      <td>2</td>\n",
              "      <td>4.4</td>\n",
              "      <td>2.514</td>\n",
              "      <td>0.0</td>\n",
              "      <td>0.0</td>\n",
              "      <td>0.0</td>\n",
              "      <td>0.0</td>\n",
              "      <td>0.0</td>\n",
              "      <td>211.289143</td>\n",
              "      <td>8.106</td>\n",
              "      <td>A</td>\n",
              "      <td>151315</td>\n",
              "    </tr>\n",
              "  </tbody>\n",
              "</table>\n",
              "</div>"
            ],
            "text/plain": [
              "            Store  Dept  Weekly_Sales  ...  Unemployment  Type    Size\n",
              "Date                                   ...                            \n",
              "2010-05-02      1     1      24924.50  ...         8.106     A  151315\n",
              "2010-12-02      1     1      46039.49  ...         8.106     A  151315\n",
              "2010-02-19      1     1      41595.55  ...         8.106     A  151315\n",
              "\n",
              "[3 rows x 18 columns]"
            ]
          },
          "metadata": {
            "tags": []
          },
          "execution_count": 82
        }
      ]
    },
    {
      "cell_type": "code",
      "metadata": {
        "id": "kipEuNGroDzW"
      },
      "source": [
        "# Conversion of IsHoliday to a dummy variable\n",
        "sales_feat['IsHoliday'] = sales_feat['IsHoliday'].apply(lambda x: 1 if x == True else 0)"
      ],
      "execution_count": null,
      "outputs": []
    },
    {
      "cell_type": "markdown",
      "metadata": {
        "_cell_guid": "ee8f7083-17e5-4bde-8ba3-f8984f69db2e",
        "_uuid": "c8970b11d7cf26cdf221aa4efb2d5cbf38059cb0",
        "id": "hAY4GhUrB8Ik"
      },
      "source": [
        "### Store types"
      ]
    },
    {
      "cell_type": "markdown",
      "metadata": {
        "_cell_guid": "f48df70e-ae33-4781-b814-398a9f9930bf",
        "_uuid": "0ef10d82edadf2c2708027ebc656d5e5dc2fc0da",
        "id": "l-ra_xBSB8Ik"
      },
      "source": [
        "In this section we will closely look at different levels of store `Type` and store `Depart` and how the main metric `Sales` is distributed among them.  "
      ]
    },
    {
      "cell_type": "code",
      "metadata": {
        "colab": {
          "base_uri": "https://localhost:8080/",
          "height": 167
        },
        "id": "_jkF63UdRb2T",
        "outputId": "cd3521bd-2a64-4585-eec3-029eedf6c8ec"
      },
      "source": [
        "sales_feat.groupby('Type')['Weekly_Sales'].describe()"
      ],
      "execution_count": null,
      "outputs": [
        {
          "output_type": "execute_result",
          "data": {
            "text/html": [
              "<div>\n",
              "<style scoped>\n",
              "    .dataframe tbody tr th:only-of-type {\n",
              "        vertical-align: middle;\n",
              "    }\n",
              "\n",
              "    .dataframe tbody tr th {\n",
              "        vertical-align: top;\n",
              "    }\n",
              "\n",
              "    .dataframe thead th {\n",
              "        text-align: right;\n",
              "    }\n",
              "</style>\n",
              "<table border=\"1\" class=\"dataframe\">\n",
              "  <thead>\n",
              "    <tr style=\"text-align: right;\">\n",
              "      <th></th>\n",
              "      <th>count</th>\n",
              "      <th>mean</th>\n",
              "      <th>std</th>\n",
              "      <th>min</th>\n",
              "      <th>25%</th>\n",
              "      <th>50%</th>\n",
              "      <th>75%</th>\n",
              "      <th>max</th>\n",
              "    </tr>\n",
              "    <tr>\n",
              "      <th>Type</th>\n",
              "      <th></th>\n",
              "      <th></th>\n",
              "      <th></th>\n",
              "      <th></th>\n",
              "      <th></th>\n",
              "      <th></th>\n",
              "      <th></th>\n",
              "      <th></th>\n",
              "    </tr>\n",
              "  </thead>\n",
              "  <tbody>\n",
              "    <tr>\n",
              "      <th>A</th>\n",
              "      <td>215478.0</td>\n",
              "      <td>20099.568043</td>\n",
              "      <td>26423.457227</td>\n",
              "      <td>-4988.94</td>\n",
              "      <td>3315.090</td>\n",
              "      <td>10105.17</td>\n",
              "      <td>26357.18</td>\n",
              "      <td>474330.10</td>\n",
              "    </tr>\n",
              "    <tr>\n",
              "      <th>B</th>\n",
              "      <td>163495.0</td>\n",
              "      <td>12237.075977</td>\n",
              "      <td>17203.668989</td>\n",
              "      <td>-3924.00</td>\n",
              "      <td>1927.055</td>\n",
              "      <td>6187.87</td>\n",
              "      <td>15353.74</td>\n",
              "      <td>693099.36</td>\n",
              "    </tr>\n",
              "    <tr>\n",
              "      <th>C</th>\n",
              "      <td>42597.0</td>\n",
              "      <td>9519.532538</td>\n",
              "      <td>15985.351612</td>\n",
              "      <td>-379.00</td>\n",
              "      <td>131.990</td>\n",
              "      <td>1149.67</td>\n",
              "      <td>12695.01</td>\n",
              "      <td>112152.35</td>\n",
              "    </tr>\n",
              "  </tbody>\n",
              "</table>\n",
              "</div>"
            ],
            "text/plain": [
              "         count          mean           std  ...       50%       75%        max\n",
              "Type                                        ...                               \n",
              "A     215478.0  20099.568043  26423.457227  ...  10105.17  26357.18  474330.10\n",
              "B     163495.0  12237.075977  17203.668989  ...   6187.87  15353.74  693099.36\n",
              "C      42597.0   9519.532538  15985.351612  ...   1149.67  12695.01  112152.35\n",
              "\n",
              "[3 rows x 8 columns]"
            ]
          },
          "metadata": {
            "tags": []
          },
          "execution_count": 84
        }
      ]
    },
    {
      "cell_type": "markdown",
      "metadata": {
        "_cell_guid": "252a994a-4e08-43ac-b0be-fe110d780ac7",
        "_uuid": "8212db6d7833da3d9f42afaa0aa2d9ec10bfb1a5",
        "id": "7LvPIGN1B8Il"
      },
      "source": [
        "Store `Type` A has the highest average of `Weekly_Sales` among all others, and we have much more data for it. So let's print an overall sum of `Weekly_Sales` and `Size` to see which store `Type` is the most selling and biggest one:"
      ]
    },
    {
      "cell_type": "code",
      "metadata": {
        "colab": {
          "base_uri": "https://localhost:8080/",
          "height": 167
        },
        "id": "t4dYJDyIT8b2",
        "outputId": "2f299ddb-3b19-4366-e49a-aeab989f5a72"
      },
      "source": [
        "sales_feat.groupby('Type')['Weekly_Sales', 'Size'].sum()"
      ],
      "execution_count": null,
      "outputs": [
        {
          "output_type": "execute_result",
          "data": {
            "text/html": [
              "<div>\n",
              "<style scoped>\n",
              "    .dataframe tbody tr th:only-of-type {\n",
              "        vertical-align: middle;\n",
              "    }\n",
              "\n",
              "    .dataframe tbody tr th {\n",
              "        vertical-align: top;\n",
              "    }\n",
              "\n",
              "    .dataframe thead th {\n",
              "        text-align: right;\n",
              "    }\n",
              "</style>\n",
              "<table border=\"1\" class=\"dataframe\">\n",
              "  <thead>\n",
              "    <tr style=\"text-align: right;\">\n",
              "      <th></th>\n",
              "      <th>Weekly_Sales</th>\n",
              "      <th>Size</th>\n",
              "    </tr>\n",
              "    <tr>\n",
              "      <th>Type</th>\n",
              "      <th></th>\n",
              "      <th></th>\n",
              "    </tr>\n",
              "  </thead>\n",
              "  <tbody>\n",
              "    <tr>\n",
              "      <th>A</th>\n",
              "      <td>4.331015e+09</td>\n",
              "      <td>39266832934</td>\n",
              "    </tr>\n",
              "    <tr>\n",
              "      <th>B</th>\n",
              "      <td>2.000701e+09</td>\n",
              "      <td>16646854214</td>\n",
              "    </tr>\n",
              "    <tr>\n",
              "      <th>C</th>\n",
              "      <td>4.055035e+08</td>\n",
              "      <td>1726700290</td>\n",
              "    </tr>\n",
              "  </tbody>\n",
              "</table>\n",
              "</div>"
            ],
            "text/plain": [
              "      Weekly_Sales         Size\n",
              "Type                           \n",
              "A     4.331015e+09  39266832934\n",
              "B     2.000701e+09  16646854214\n",
              "C     4.055035e+08   1726700290"
            ]
          },
          "metadata": {
            "tags": []
          },
          "execution_count": 85
        }
      ]
    },
    {
      "cell_type": "markdown",
      "metadata": {
        "id": "rvpa4OZ7l7qu"
      },
      "source": [
        "Clearly stores of type A. StoreType B goes on the second place in both Sales and Size. What about date periods?"
      ]
    },
    {
      "cell_type": "code",
      "metadata": {
        "colab": {
          "base_uri": "https://localhost:8080/",
          "height": 716
        },
        "id": "SQB-m-M1mPy-",
        "outputId": "1fac4f19-4d1c-410d-c1f9-157d87353ffb"
      },
      "source": [
        "# sales trends\n",
        "sales_feat_2011 = sales_feat[sales_feat['Year'] == 2011]\n",
        "\n",
        "g = sns.factorplot(data = sales_feat_2011, x = 'WeekOfYear', y = \"Weekly_Sales\", \n",
        "               col = 'IsHoliday', # per store type in cols\n",
        "               palette = 'plasma',\n",
        "               hue = 'Type',\n",
        "               row = 'Type'\n",
        "               ) \n",
        "g.fig.set_figwidth(8.27)\n",
        "g.fig.set_figheight(9)\n",
        "g.set_xticklabels(rotation=90)"
      ],
      "execution_count": null,
      "outputs": [
        {
          "output_type": "execute_result",
          "data": {
            "text/plain": [
              "<seaborn.axisgrid.FacetGrid at 0x7f7a48f52358>"
            ]
          },
          "metadata": {
            "tags": []
          },
          "execution_count": 86
        },
        {
          "output_type": "display_data",
          "data": {
            "image/png": "[encoded data removed]",
            "text/plain": [
              "<Figure size 595.44x648 with 6 Axes>"
            ]
          },
          "metadata": {
            "tags": []
          }
        }
      ]
    },
    {
      "cell_type": "markdown",
      "metadata": {
        "_cell_guid": "17cd2b7d-0e85-4cb5-b667-3d35862ae185",
        "_uuid": "07d7b866eb4feeda249fa3699fdffa64d2a52b51",
        "id": "4WqBsXYQB8Il"
      },
      "source": [
        "Both store types A & B follow the same trend but at different scales. Already at this point, we can see that Sales escalate towards Christmas holidays. But we'll talk about seasonalities and trends later in the Time Series Analysis section. Sales of the store type C are relatively constant over the year. They seem less sensitive to markdowns."
      ]
    },
    {
      "cell_type": "markdown",
      "metadata": {
        "id": "vhN4AQU8XgwM"
      },
      "source": [
        "Let's print a mean of `Weekly_Sales` for each store `Type` to see \n",
        "how the sales are distributed among the `Dept` :\n",
        "\n"
      ]
    },
    {
      "cell_type": "code",
      "metadata": {
        "id": "YDJ0JmDkSGW4"
      },
      "source": [
        "#Isolating sales of departments for each store type\n",
        "\n",
        "sales_feat_A = sales_feat[(sales_feat.Type == 'A')]\n",
        "sales_feat_B = sales_feat[(sales_feat.Type =='B')]\n",
        "sales_feat_C = sales_feat[(sales_feat.Type == 'C')]\n",
        "mean_sales_A = sales_feat_A.groupby('Dept')['Weekly_Sales'].mean().reset_index()\n",
        "mean_sales_B = sales_feat_B.groupby('Dept')['Weekly_Sales'].mean().reset_index()\n",
        "mean_sales_C = sales_feat_C.groupby('Dept')['Weekly_Sales'].mean().reset_index()"
      ],
      "execution_count": null,
      "outputs": []
    },
    {
      "cell_type": "code",
      "metadata": {
        "colab": {
          "base_uri": "https://localhost:8080/",
          "height": 191
        },
        "id": "SjXclJXYW5nO",
        "outputId": "a439065e-f213-4fc9-9082-ba208aceb0ab"
      },
      "source": [
        "sales_feat_A.head(2)"
      ],
      "execution_count": null,
      "outputs": [
        {
          "output_type": "execute_result",
          "data": {
            "text/html": [
              "<div>\n",
              "<style scoped>\n",
              "    .dataframe tbody tr th:only-of-type {\n",
              "        vertical-align: middle;\n",
              "    }\n",
              "\n",
              "    .dataframe tbody tr th {\n",
              "        vertical-align: top;\n",
              "    }\n",
              "\n",
              "    .dataframe thead th {\n",
              "        text-align: right;\n",
              "    }\n",
              "</style>\n",
              "<table border=\"1\" class=\"dataframe\">\n",
              "  <thead>\n",
              "    <tr style=\"text-align: right;\">\n",
              "      <th></th>\n",
              "      <th>Store</th>\n",
              "      <th>Dept</th>\n",
              "      <th>Weekly_Sales</th>\n",
              "      <th>IsHoliday</th>\n",
              "      <th>WeekOfYear</th>\n",
              "      <th>Year</th>\n",
              "      <th>Month</th>\n",
              "      <th>Temperature</th>\n",
              "      <th>Fuel_Price</th>\n",
              "      <th>MarkDown1</th>\n",
              "      <th>MarkDown2</th>\n",
              "      <th>MarkDown3</th>\n",
              "      <th>MarkDown4</th>\n",
              "      <th>MarkDown5</th>\n",
              "      <th>CPI</th>\n",
              "      <th>Unemployment</th>\n",
              "      <th>Type</th>\n",
              "      <th>Size</th>\n",
              "    </tr>\n",
              "    <tr>\n",
              "      <th>Date</th>\n",
              "      <th></th>\n",
              "      <th></th>\n",
              "      <th></th>\n",
              "      <th></th>\n",
              "      <th></th>\n",
              "      <th></th>\n",
              "      <th></th>\n",
              "      <th></th>\n",
              "      <th></th>\n",
              "      <th></th>\n",
              "      <th></th>\n",
              "      <th></th>\n",
              "      <th></th>\n",
              "      <th></th>\n",
              "      <th></th>\n",
              "      <th></th>\n",
              "      <th></th>\n",
              "      <th></th>\n",
              "    </tr>\n",
              "  </thead>\n",
              "  <tbody>\n",
              "    <tr>\n",
              "      <th>2010-05-02</th>\n",
              "      <td>1</td>\n",
              "      <td>1</td>\n",
              "      <td>24924.50</td>\n",
              "      <td>0</td>\n",
              "      <td>17</td>\n",
              "      <td>2010</td>\n",
              "      <td>5</td>\n",
              "      <td>5.7</td>\n",
              "      <td>2.572</td>\n",
              "      <td>0.0</td>\n",
              "      <td>0.0</td>\n",
              "      <td>0.0</td>\n",
              "      <td>0.0</td>\n",
              "      <td>0.0</td>\n",
              "      <td>211.096358</td>\n",
              "      <td>8.106</td>\n",
              "      <td>A</td>\n",
              "      <td>151315</td>\n",
              "    </tr>\n",
              "    <tr>\n",
              "      <th>2010-12-02</th>\n",
              "      <td>1</td>\n",
              "      <td>1</td>\n",
              "      <td>46039.49</td>\n",
              "      <td>1</td>\n",
              "      <td>48</td>\n",
              "      <td>2010</td>\n",
              "      <td>12</td>\n",
              "      <td>3.6</td>\n",
              "      <td>2.548</td>\n",
              "      <td>0.0</td>\n",
              "      <td>0.0</td>\n",
              "      <td>0.0</td>\n",
              "      <td>0.0</td>\n",
              "      <td>0.0</td>\n",
              "      <td>211.242170</td>\n",
              "      <td>8.106</td>\n",
              "      <td>A</td>\n",
              "      <td>151315</td>\n",
              "    </tr>\n",
              "  </tbody>\n",
              "</table>\n",
              "</div>"
            ],
            "text/plain": [
              "            Store  Dept  Weekly_Sales  ...  Unemployment  Type    Size\n",
              "Date                                   ...                            \n",
              "2010-05-02      1     1      24924.50  ...         8.106     A  151315\n",
              "2010-12-02      1     1      46039.49  ...         8.106     A  151315\n",
              "\n",
              "[2 rows x 18 columns]"
            ]
          },
          "metadata": {
            "tags": []
          },
          "execution_count": 88
        }
      ]
    },
    {
      "cell_type": "code",
      "metadata": {
        "colab": {
          "base_uri": "https://localhost:8080/",
          "height": 406
        },
        "id": "t2Gfh-o0WmJ7",
        "outputId": "9ac8898d-906f-44fd-c8eb-709a6fa3b44b"
      },
      "source": [
        "mean_sales_A"
      ],
      "execution_count": null,
      "outputs": [
        {
          "output_type": "execute_result",
          "data": {
            "text/html": [
              "<div>\n",
              "<style scoped>\n",
              "    .dataframe tbody tr th:only-of-type {\n",
              "        vertical-align: middle;\n",
              "    }\n",
              "\n",
              "    .dataframe tbody tr th {\n",
              "        vertical-align: top;\n",
              "    }\n",
              "\n",
              "    .dataframe thead th {\n",
              "        text-align: right;\n",
              "    }\n",
              "</style>\n",
              "<table border=\"1\" class=\"dataframe\">\n",
              "  <thead>\n",
              "    <tr style=\"text-align: right;\">\n",
              "      <th></th>\n",
              "      <th>Dept</th>\n",
              "      <th>Weekly_Sales</th>\n",
              "    </tr>\n",
              "  </thead>\n",
              "  <tbody>\n",
              "    <tr>\n",
              "      <th>0</th>\n",
              "      <td>1</td>\n",
              "      <td>22956.887886</td>\n",
              "    </tr>\n",
              "    <tr>\n",
              "      <th>1</th>\n",
              "      <td>2</td>\n",
              "      <td>51994.674873</td>\n",
              "    </tr>\n",
              "    <tr>\n",
              "      <th>2</th>\n",
              "      <td>3</td>\n",
              "      <td>13881.033137</td>\n",
              "    </tr>\n",
              "    <tr>\n",
              "      <th>3</th>\n",
              "      <td>4</td>\n",
              "      <td>32973.814075</td>\n",
              "    </tr>\n",
              "    <tr>\n",
              "      <th>4</th>\n",
              "      <td>5</td>\n",
              "      <td>26803.448045</td>\n",
              "    </tr>\n",
              "    <tr>\n",
              "      <th>...</th>\n",
              "      <td>...</td>\n",
              "      <td>...</td>\n",
              "    </tr>\n",
              "    <tr>\n",
              "      <th>76</th>\n",
              "      <td>95</td>\n",
              "      <td>97094.026043</td>\n",
              "    </tr>\n",
              "    <tr>\n",
              "      <th>77</th>\n",
              "      <td>96</td>\n",
              "      <td>19900.943552</td>\n",
              "    </tr>\n",
              "    <tr>\n",
              "      <th>78</th>\n",
              "      <td>97</td>\n",
              "      <td>22093.807101</td>\n",
              "    </tr>\n",
              "    <tr>\n",
              "      <th>79</th>\n",
              "      <td>98</td>\n",
              "      <td>10979.816195</td>\n",
              "    </tr>\n",
              "    <tr>\n",
              "      <th>80</th>\n",
              "      <td>99</td>\n",
              "      <td>431.443064</td>\n",
              "    </tr>\n",
              "  </tbody>\n",
              "</table>\n",
              "<p>81 rows × 2 columns</p>\n",
              "</div>"
            ],
            "text/plain": [
              "    Dept  Weekly_Sales\n",
              "0      1  22956.887886\n",
              "1      2  51994.674873\n",
              "2      3  13881.033137\n",
              "3      4  32973.814075\n",
              "4      5  26803.448045\n",
              "..   ...           ...\n",
              "76    95  97094.026043\n",
              "77    96  19900.943552\n",
              "78    97  22093.807101\n",
              "79    98  10979.816195\n",
              "80    99    431.443064\n",
              "\n",
              "[81 rows x 2 columns]"
            ]
          },
          "metadata": {
            "tags": []
          },
          "execution_count": 89
        }
      ]
    },
    {
      "cell_type": "code",
      "metadata": {
        "colab": {
          "base_uri": "https://localhost:8080/"
        },
        "id": "XMx4rJhuem3h",
        "outputId": "47c833c1-e992-43a0-efea-be5bbc69c7f8"
      },
      "source": [
        "#what are the store ids within each type?\n",
        "\n",
        "print(\"Stores ids of type A:\", sales_feat_A.Store.unique())\n",
        "print(\"Stores ids of type B:\", sales_feat_B.Store.unique())\n",
        "print(\"Stores ids of type C:\", sales_feat_C.Store.unique())"
      ],
      "execution_count": null,
      "outputs": [
        {
          "output_type": "stream",
          "text": [
            "Stores ids of type A: [ 1  2  4  6  8 11 13 14 19 20 24 26 27 28 31 32 33 34 36 39 40 41]\n",
            "Stores ids of type B: [ 3  5  7  9 10 12 15 16 17 18 21 22 23 25 29 35 45]\n",
            "Stores ids of type C: [30 37 38 42 43 44]\n"
          ],
          "name": "stdout"
        }
      ]
    },
    {
      "cell_type": "code",
      "metadata": {
        "colab": {
          "base_uri": "https://localhost:8080/",
          "height": 318
        },
        "id": "biHOtzTeUh2a",
        "outputId": "70552db3-8414-4773-a6c1-df9ad15e3a71"
      },
      "source": [
        "sns.set(style = \"ticks\")# to format into seaborn \n",
        "c = '#386B7F' # basic color for plots\n",
        "plt.figure(figsize = (20, 4))\n",
        "\n",
        "plt.subplot(131)\n",
        "plt.bar(mean_sales_A.Dept, mean_sales_A.Weekly_Sales, color = c)\n",
        "plt.title(\"Mean weekly sales per dept- Store type A\")\n",
        "plt.xlabel(\"Dept\")\n",
        "plt.ylabel(\"Mean weekly sales\")\n",
        "\n",
        "plt.subplot(132)\n",
        "plt.bar(mean_sales_B.Dept, mean_sales_B.Weekly_Sales, color = c)\n",
        "plt.title(\"Mean weekly sales per dept - Store type B\")\n",
        "plt.xlabel(\"Dept\")\n",
        "plt.ylabel(\"Mean weekly sales\")\n",
        "\n",
        "plt.subplot(133)\n",
        "plt.bar(mean_sales_C.Dept, mean_sales_C.Weekly_Sales, color = c)\n",
        "plt.title(\"Mean weekly sales per dept - Store type C\")\n",
        "plt.xlabel(\"Dept\")\n",
        "plt.ylabel(\"Mean weekly sales\")\n",
        "\n",
        "plt.show"
      ],
      "execution_count": null,
      "outputs": [
        {
          "output_type": "execute_result",
          "data": {
            "text/plain": [
              "<function matplotlib.pyplot.show>"
            ]
          },
          "metadata": {
            "tags": []
          },
          "execution_count": 91
        },
        {
          "output_type": "display_data",
          "data": {
            "image/png": "[encoded data removed]",
            "text/plain": [
              "<Figure size 1440x288 with 3 Axes>"
            ]
          },
          "metadata": {
            "tags": []
          }
        }
      ]
    },
    {
      "cell_type": "markdown",
      "metadata": {
        "id": "aX_udOR-lBz7"
      },
      "source": [
        "The offerings of the A & B stores are very numerous, and the average sales levels are very heterogeneous, ranging from low to high levels of sales. On the other hand, type C stores have fairly high sales levels although it offers a limited diversity of departments."
      ]
    },
    {
      "cell_type": "markdown",
      "metadata": {
        "id": "8HuIsmv0b5g0"
      },
      "source": [
        "### Correlational Analysis"
      ]
    },
    {
      "cell_type": "code",
      "metadata": {
        "colab": {
          "base_uri": "https://localhost:8080/"
        },
        "id": "7qBClIkOYju7",
        "outputId": "df0469cd-3d92-41c9-b4ff-d57eceef50df"
      },
      "source": [
        "#what are the departments selling the most.\n",
        "max_mean_sales_A = mean_sales_A.Weekly_Sales.max()\n",
        "max_mean_sales_B = mean_sales_B.Weekly_Sales.max()\n",
        "max_mean_sales_C = mean_sales_C.Weekly_Sales.max()\n",
        "print (\"the department of A-type doing the max sales over the year is:\", mean_sales_A.Dept[mean_sales_A.Weekly_Sales == max_mean_sales_A].iloc[0])\n",
        "print (\"the department of B-type doing the max sales over the year is:\", mean_sales_B.Dept[mean_sales_B.Weekly_Sales == max_mean_sales_B].iloc[0])\n",
        "print (\"the department of C-type doing the max sales over the year is:\", mean_sales_C.Dept[mean_sales_C.Weekly_Sales == max_mean_sales_C].iloc[0])"
      ],
      "execution_count": null,
      "outputs": [
        {
          "output_type": "stream",
          "text": [
            "the department of A-type doing the max sales over the year is: 92\n",
            "the department of B-type doing the max sales over the year is: 38\n",
            "the department of C-type doing the max sales over the year is: 92\n"
          ],
          "name": "stdout"
        }
      ]
    },
    {
      "cell_type": "markdown",
      "metadata": {
        "id": "X3aDcYKWb4tB"
      },
      "source": [
        "How some features and markdowns affect the sales."
      ]
    },
    {
      "cell_type": "code",
      "metadata": {
        "id": "01xIlKtQwRp1"
      },
      "source": [
        "# Compute the correlation matrix and return ranking of features in absolute value of the known dept.\n",
        "def corr_rank(_sales_feat, _dept):\n",
        "      # exclude 'Store','Type','IsHoliday','Size','Dept','Year','Month' variables\n",
        "      col_to_drop = ['Store', 'Type','IsHoliday','Size','Dept','Year','Month']\n",
        "      corr_all=sales_feat[sales_feat['Dept'] == _dept].drop(col_to_drop, axis=1).corr()\n",
        "      \n",
        "      select_corr = corr_all[['Weekly_Sales']].drop('Weekly_Sales', axis = 0)\n",
        "      select_corr = select_corr.reset_index().rename(columns={\"index\": \"Feature\"})\n",
        "      select_corr[\"abs_corr_Weekly_Sales\"] = np.abs(select_corr[\"Weekly_Sales\"])\n",
        "      _feat_rank = select_corr.sort_values([\"abs_corr_Weekly_Sales\"], ascending=False).reset_index(drop=True)\n",
        "   \n",
        "      return _feat_rank"
      ],
      "execution_count": null,
      "outputs": []
    },
    {
      "cell_type": "code",
      "metadata": {
        "id": "7KfZpFKfxEIE"
      },
      "source": [
        "# set of the four most correlated features with Weekly_Sales for each department\n",
        "majcorrfeat = pd.DataFrame(columns=['Dept','feat1','feat2', 'feat3', 'feat4'])\n",
        "i=0\n",
        "for dept in np.sort(sales_feat['Dept'].unique()):\n",
        "  feat_rank=corr_rank(sales_feat, dept)\n",
        "  mylist=feat_rank.loc[0:3,'Feature'].unique()\n",
        "  majcorrfeat.loc[i, 'Dept']= dept\n",
        "  majcorrfeat.loc[i, ['feat1', 'feat2', 'feat3', 'feat4']]= mylist\n",
        "  i=i+1"
      ],
      "execution_count": null,
      "outputs": []
    },
    {
      "cell_type": "code",
      "metadata": {
        "colab": {
          "base_uri": "https://localhost:8080/",
          "height": 167
        },
        "id": "fMLSpAUYzJZt",
        "outputId": "b0e89eb4-f739-4527-d3d1-be284c71bd5c"
      },
      "source": [
        "majcorrfeat.head(4)"
      ],
      "execution_count": null,
      "outputs": [
        {
          "output_type": "execute_result",
          "data": {
            "text/html": [
              "<div>\n",
              "<style scoped>\n",
              "    .dataframe tbody tr th:only-of-type {\n",
              "        vertical-align: middle;\n",
              "    }\n",
              "\n",
              "    .dataframe tbody tr th {\n",
              "        vertical-align: top;\n",
              "    }\n",
              "\n",
              "    .dataframe thead th {\n",
              "        text-align: right;\n",
              "    }\n",
              "</style>\n",
              "<table border=\"1\" class=\"dataframe\">\n",
              "  <thead>\n",
              "    <tr style=\"text-align: right;\">\n",
              "      <th></th>\n",
              "      <th>Dept</th>\n",
              "      <th>feat1</th>\n",
              "      <th>feat2</th>\n",
              "      <th>feat3</th>\n",
              "      <th>feat4</th>\n",
              "    </tr>\n",
              "  </thead>\n",
              "  <tbody>\n",
              "    <tr>\n",
              "      <th>0</th>\n",
              "      <td>1</td>\n",
              "      <td>Temperature</td>\n",
              "      <td>CPI</td>\n",
              "      <td>Unemployment</td>\n",
              "      <td>MarkDown5</td>\n",
              "    </tr>\n",
              "    <tr>\n",
              "      <th>1</th>\n",
              "      <td>2</td>\n",
              "      <td>MarkDown1</td>\n",
              "      <td>MarkDown5</td>\n",
              "      <td>MarkDown4</td>\n",
              "      <td>CPI</td>\n",
              "    </tr>\n",
              "    <tr>\n",
              "      <th>2</th>\n",
              "      <td>3</td>\n",
              "      <td>MarkDown1</td>\n",
              "      <td>Temperature</td>\n",
              "      <td>MarkDown4</td>\n",
              "      <td>MarkDown5</td>\n",
              "    </tr>\n",
              "    <tr>\n",
              "      <th>3</th>\n",
              "      <td>4</td>\n",
              "      <td>MarkDown1</td>\n",
              "      <td>MarkDown5</td>\n",
              "      <td>MarkDown4</td>\n",
              "      <td>Unemployment</td>\n",
              "    </tr>\n",
              "  </tbody>\n",
              "</table>\n",
              "</div>"
            ],
            "text/plain": [
              "  Dept        feat1        feat2         feat3         feat4\n",
              "0    1  Temperature          CPI  Unemployment     MarkDown5\n",
              "1    2    MarkDown1    MarkDown5     MarkDown4           CPI\n",
              "2    3    MarkDown1  Temperature     MarkDown4     MarkDown5\n",
              "3    4    MarkDown1    MarkDown5     MarkDown4  Unemployment"
            ]
          },
          "metadata": {
            "tags": []
          },
          "execution_count": 95
        }
      ]
    },
    {
      "cell_type": "code",
      "metadata": {
        "colab": {
          "base_uri": "https://localhost:8080/"
        },
        "id": "-ZoTpI4punPZ",
        "outputId": "30644f5e-bba0-41fb-c26d-3f2200a8162c"
      },
      "source": [
        "#gather Dept ids that a MarkDown appears among the four most correlated factors \n",
        "featlist = ['feat1','feat2','feat3','feat4']\n",
        "markdownlist = ['MarkDown1','MarkDown2','MarkDown3','MarkDown4','MarkDown5']\n",
        "subdptlist=[]\n",
        "dptlist=[]\n",
        "res = []\n",
        "\n",
        "for feat in featlist:\n",
        "  subdptlist=[]\n",
        "  for mark in markdownlist:\n",
        "    _subdpt_list = majcorrfeat[majcorrfeat[feat]==mark]['Dept'].unique()\n",
        "    subdptlist.extend(_subdpt_list)\n",
        "    _dptlist = list(dict.fromkeys(subdptlist))\n",
        "  dptlist.extend(_dptlist)\n",
        "\n",
        "#remove duplicates in the dptlist\n",
        "[res.append(x) for x in dptlist if x not in res] \n",
        "res.sort()\n",
        "print(\"Ids of the Dept whose sales are affected by markdowns:\", res)\n"
      ],
      "execution_count": null,
      "outputs": [
        {
          "output_type": "stream",
          "text": [
            "Ids of the Dept whose sales are affected by markdowns: [1, 2, 3, 4, 5, 6, 7, 8, 9, 10, 11, 12, 13, 14, 17, 18, 19, 20, 21, 22, 23, 24, 25, 26, 27, 28, 29, 31, 32, 33, 35, 36, 38, 39, 40, 41, 42, 43, 44, 46, 47, 48, 49, 50, 51, 52, 54, 55, 56, 58, 59, 60, 65, 67, 71, 72, 74, 77, 78, 79, 80, 81, 82, 83, 87, 90, 91, 92, 93, 94, 95, 96, 97, 98, 99]\n"
          ],
          "name": "stdout"
        }
      ]
    },
    {
      "cell_type": "markdown",
      "metadata": {
        "id": "dp3Vbgfku9l6"
      },
      "source": [
        "We saw before similar sales curves in shape between stores type A et B. Let us see the wordcloud for stores `Type` A & B gathered, then C."
      ]
    },
    {
      "cell_type": "code",
      "metadata": {
        "id": "JVyPC6v3neyS"
      },
      "source": [
        "array_A= sales_feat_A.Store.unique()\n",
        "array_B= sales_feat_B.Store.unique()\n",
        "array_AB = np.concatenate((array_A, array_B))\n",
        "array_C= sales_feat_C.Store.unique()"
      ],
      "execution_count": null,
      "outputs": []
    },
    {
      "cell_type": "code",
      "metadata": {
        "id": "OOwPGvqd5UMz"
      },
      "source": [
        "majcorrfeatAB=majcorrfeat[majcorrfeat['Dept'].isin(array_AB)]\n",
        "majcorrfeatB=majcorrfeat[majcorrfeat['Dept'].isin(array_B)]\n",
        "majcorrfeatC=majcorrfeat[majcorrfeat['Dept'].isin(array_C)]"
      ],
      "execution_count": null,
      "outputs": []
    },
    {
      "cell_type": "code",
      "metadata": {
        "colab": {
          "base_uri": "https://localhost:8080/",
          "height": 463
        },
        "id": "ydSfS5GVnevt",
        "outputId": "89da0ddb-02ec-4cbd-f9a0-fa48e5d9ebf8"
      },
      "source": [
        "# generate WordCloud, stores type A&B\n",
        "  \n",
        "comment_words = '' \n",
        "stopwords = set(STOPWORDS) \n",
        "\n",
        "# iterate through the file \n",
        "for val in majcorrfeatAB.values: \n",
        "    # typecaste each val to string \n",
        "    val = str(val)\n",
        "    # split the value \n",
        "    tokens = val.split(\"'\")\n",
        "    comment_words += \" \".join(tokens)+\" \"\n",
        "\n",
        "wordcloud = WordCloud(width = 800, height = 800, \n",
        "                background_color ='white', \n",
        "                stopwords = stopwords, \n",
        "                min_font_size = 10).generate(comment_words) \n",
        "  \n",
        "# plot the WordCloud image                        \n",
        "plt.figure(figsize = (6, 6), facecolor = None) \n",
        "plt.imshow(wordcloud) \n",
        "plt.axis(\"off\") \n",
        "plt.tight_layout(pad = 0) \n",
        "  \n",
        "plt.show()"
      ],
      "execution_count": null,
      "outputs": [
        {
          "output_type": "display_data",
          "data": {
            "image/png": "[encoded data removed]",
            "text/plain": [
              "<Figure size 432x432 with 1 Axes>"
            ]
          },
          "metadata": {
            "tags": []
          }
        }
      ]
    },
    {
      "cell_type": "markdown",
      "metadata": {
        "id": "lu49AfCDSgzr"
      },
      "source": [
        "We have a strong correlation between the `Weekly_Sales` and the index of price `CPI` for the group of stores A & B. We can also observe a strong correlation between the sales and fact that `MarkDown5` and `MarkDown1` were running.\n",
        "\n"
      ]
    },
    {
      "cell_type": "code",
      "metadata": {
        "colab": {
          "base_uri": "https://localhost:8080/",
          "height": 463
        },
        "id": "bqzBna5e60xm",
        "outputId": "4a938f2f-ad01-418c-be88-d64d781734c7"
      },
      "source": [
        "# generate WordCloud, store type C\n",
        "  \n",
        "comment_words = '' \n",
        "stopwords = set(STOPWORDS) \n",
        "\n",
        "# iterate through the file \n",
        "for val in majcorrfeatC.values: \n",
        "    # typecaste each val to string \n",
        "    val = str(val)\n",
        "    # split the value \n",
        "    tokens = val.split(\"'\")\n",
        "    comment_words += \" \".join(tokens)+\" \"\n",
        "\n",
        "wordcloud = WordCloud(width = 800, height = 800, \n",
        "                background_color ='white', \n",
        "                stopwords = stopwords, \n",
        "                min_font_size = 10).generate(comment_words) \n",
        "  \n",
        "# plot the WordCloud image                        \n",
        "plt.figure(figsize = (6, 6), facecolor = None) \n",
        "plt.imshow(wordcloud) \n",
        "plt.axis(\"off\") \n",
        "plt.tight_layout(pad = 0) \n",
        "  \n",
        "plt.show()"
      ],
      "execution_count": null,
      "outputs": [
        {
          "output_type": "display_data",
          "data": {
            "image/png": "[encoded data removed]",
            "text/plain": [
              "<Figure size 432x432 with 1 Axes>"
            ]
          },
          "metadata": {
            "tags": []
          }
        }
      ]
    },
    {
      "cell_type": "markdown",
      "metadata": {
        "id": "UHipoPEjSorc"
      },
      "source": [
        "What a big difference for store type C! We have now a strong correlation between the `Weekly_Sales` and the the `Unemployment` rate for C-type stores. It seems that sales are sensitive to employment rate in the population. \n",
        "We can also now observe a strong correlation between the sales and fact that `MarkDown4` and `MarkDown1` were running."
      ]
    },
    {
      "cell_type": "markdown",
      "metadata": {
        "_cell_guid": "92029a40-d511-4bc4-9e0a-c2844066a237",
        "_uuid": "a627f9e2193305842b2ae6d78ba253b451f1d26f",
        "id": "YhIPULhRB8In"
      },
      "source": [
        "### Conclusion of EDA"
      ]
    },
    {
      "cell_type": "markdown",
      "metadata": {
        "_cell_guid": "52c64199-9af5-44dc-a9bd-a4615f9aabd7",
        "_uuid": "83d9bce576100392312554c561372e22eed98478",
        "id": "8TqhUT7sB8In"
      },
      "source": [
        "- The most selling store `Type` is A.\n",
        "\n",
        "- Store types A and B are similar in the wide variety of their product offerings, which can be seen in an extensive list of departments. However, the best selling departments are different. \n",
        "\n",
        "- Constant `Weekly_Sales` amount over the year for store `Type` C indicates to the possible fact that people shop there essential things. The strong correlation between sales of `Type` C stores  and the `Unemployment` rate supports this assumption. That these stores are attended by a modest population that is careful to buy essential goods. \n",
        "\n",
        "- observation shared to all types of stores , we see sales per department highly correlated with the fact that some promotions are running, especially the `MarkDown5` and `MarkDown1` for store types A & B, and the `MarkDown4` and `MarkDown1` for store type C. Despite the presence of promotional periods throughout the year, we don't see their effect on total sales, except for store types A & B at Christmas where there is a peak. We would have to look in more detail at the department level to see the effects of the special offers."
      ]
    },
    {
      "cell_type": "markdown",
      "metadata": {
        "_cell_guid": "449f5d38-7e71-4dea-92cf-65ca8f303815",
        "_uuid": "804c4c36a2b46f14ecb9f899aaa56d50adb03f43",
        "id": "s0T0r2lOB8In"
      },
      "source": [
        "We build a time series analysis on a chosen department and a  store type. The main advantage of this approach is its simplicity of presentation and overall account for different trends and seasonalities in the dataset. "
      ]
    },
    {
      "cell_type": "markdown",
      "metadata": {
        "_cell_guid": "137a404c-aaa6-4ec7-8fbd-6100b1bad7e7",
        "_uuid": "abac6543ac6a34643f54733d5201bddcc5f1ff28",
        "id": "0L79Xc_EB8In"
      },
      "source": [
        "Along with an increasing or decreasing trend, series have some form of seasonality trends, i.e. variations specific to a particular time frame. In this section, we will analyse time series data: its trends, sesonalities and autocorrelation. We develop at the end forecasts using Prophet methodology. We will not develop a Seasonal ARIMA model (Autoregression Integrated Moving Average)."
      ]
    },
    {
      "cell_type": "markdown",
      "metadata": {
        "id": "lZDpbc40ATB0"
      },
      "source": [
        "### Seasonality"
      ]
    },
    {
      "cell_type": "markdown",
      "metadata": {
        "id": "KydRKDHKAUmh"
      },
      "source": [
        "We study one department (best seller department 92 as seen before) from store number 6, a store number randomly chosen that represents its group of store `Type` A.\n",
        "\n",
        "It also makes sense to downsample the data from days to weeks using the `resample` method to see the present trends more clearly."
      ]
    },
    {
      "cell_type": "markdown",
      "metadata": {
        "id": "zHWfxzFPE-gm"
      },
      "source": [
        "Let us first check that the particular departments comply the observations of EDA. We are plotting the seaborn heatmap."
      ]
    },
    {
      "cell_type": "code",
      "metadata": {
        "colab": {
          "base_uri": "https://localhost:8080/",
          "height": 522
        },
        "id": "JERbK7k9F216",
        "outputId": "f443df48-e7b2-4d2d-a3bd-711028004f17"
      },
      "source": [
        "# Compute the correlation matrix \n",
        "\n",
        "# exclude 'Store','Type','IsHoliday','Size' variables\n",
        "corr_all_A_38 = sales_feat[sales_feat['Dept'] == 38]\n",
        "corr_all_A_38 = corr_all_A_38[corr_all_A_38['Store'] == 6].drop(['Store','Type','IsHoliday','Size','Dept'], axis = 1).corr()\n",
        "\n",
        "\n",
        "# Generate a mask for the upper triangle\n",
        "mask = np.zeros_like(corr_all_A_38, dtype = np.bool)\n",
        "mask[np.triu_indices_from(mask)] = True\n",
        "\n",
        "# Set up the matplotlib figure\n",
        "plt.rcParams[\"figure.figsize\"] = (8,8)\n",
        "f, axes = plt.subplots(1,1)\n",
        "\n",
        "# Draw the heatmap with the mask and correct aspect ratio\n",
        "sns.heatmap(corr_all_A_38, mask = mask, square = True, linewidths = .5, ax = axes, cmap = \"BuPu\")\n",
        "axes.set_title('Dept 38 (A type)')\n",
        "\n",
        "plt.show()"
      ],
      "execution_count": null,
      "outputs": [
        {
          "output_type": "display_data",
          "data": {
            "image/png": "[encoded data removed]",
            "text/plain": [
              "<Figure size 576x576 with 2 Axes>"
            ]
          },
          "metadata": {
            "tags": []
          }
        }
      ]
    },
    {
      "cell_type": "markdown",
      "metadata": {
        "id": "6zpbM8nvChly"
      },
      "source": [
        "Correlation with CPI can be seen."
      ]
    },
    {
      "cell_type": "code",
      "metadata": {
        "id": "oJ4j8u_gMf7V",
        "colab": {
          "base_uri": "https://localhost:8080/",
          "height": 416
        },
        "outputId": "8929ec69-1160-4a16-df97-94f5cb80a7da"
      },
      "source": [
        "# departments of different store types\n",
        "sales_a38 = sales_feat[(sales_feat.Store == 6) & (sales_feat.Dept == 38)].loc[:, ['Weekly_Sales']]\n",
        "sales_a38 = sales_a38.resample('W').sum()\n",
        "sales_a38 = sales_a38[sales_a38.Weekly_Sales != 0]\n",
        "\n",
        "f, ax1 = plt.subplots(1, figsize = (12, 6))\n",
        "\n",
        "# departments of different store types\n",
        "sales_a38.plot(color = c, ax = ax1)\n",
        "\n",
        "ax1.set_title('Dept 38 (A type)');\n",
        "ax1.set_ylabel('Weekly Sales')"
      ],
      "execution_count": null,
      "outputs": [
        {
          "output_type": "execute_result",
          "data": {
            "text/plain": [
              "Text(0, 0.5, 'Weekly Sales')"
            ]
          },
          "metadata": {
            "tags": []
          },
          "execution_count": 102
        },
        {
          "output_type": "display_data",
          "data": {
            "image/png": "[encoded data removed]",
            "text/plain": [
              "<Figure size 864x432 with 1 Axes>"
            ]
          },
          "metadata": {
            "tags": []
          }
        }
      ]
    },
    {
      "cell_type": "markdown",
      "metadata": {
        "id": "ehMkAq9q5ZoU"
      },
      "source": [
        "Not obvious to catch seasonality, we can see that retail sales tend to peak for december."
      ]
    },
    {
      "cell_type": "markdown",
      "metadata": {
        "id": "ntll2moY-ZEy"
      },
      "source": [
        "### Yearly trend"
      ]
    },
    {
      "cell_type": "markdown",
      "metadata": {
        "id": "SeU8myG4-dVE"
      },
      "source": [
        "The thing here is to check the presence of a trend in serie."
      ]
    },
    {
      "cell_type": "code",
      "metadata": {
        "colab": {
          "base_uri": "https://localhost:8080/",
          "height": 401
        },
        "id": "noDqpAFv-aKy",
        "outputId": "9e4f13b8-e4aa-46f4-f755-1c373a14cdee"
      },
      "source": [
        "f, ax1 = plt.subplots(1, figsize = (10, 6))\n",
        "\n",
        "decomposition_a_38 = seasonal_decompose(sales_a38, model = 'additive', freq = 52)\n",
        "decomposition_a_38.trend.plot(color = c, ax = ax1)"
      ],
      "execution_count": null,
      "outputs": [
        {
          "output_type": "execute_result",
          "data": {
            "text/plain": [
              "<matplotlib.axes._subplots.AxesSubplot at 0x7f7a480bc080>"
            ]
          },
          "metadata": {
            "tags": []
          },
          "execution_count": 103
        },
        {
          "output_type": "display_data",
          "data": {
            "image/png": "[encoded data removed]",
            "text/plain": [
              "<Figure size 720x432 with 1 Axes>"
            ]
          },
          "metadata": {
            "tags": []
          }
        }
      ]
    },
    {
      "cell_type": "markdown",
      "metadata": {
        "id": "5Kn6mqyj4RTM"
      },
      "source": [
        "Overall sales seems to decrease.\n",
        "\n",
        "\n"
      ]
    },
    {
      "cell_type": "markdown",
      "metadata": {
        "id": "pjm-jTxF6cwT"
      },
      "source": [
        "### Autocorrelation"
      ]
    },
    {
      "cell_type": "markdown",
      "metadata": {
        "id": "hTS8GHye6iy-"
      },
      "source": [
        "The next step in our time series analysis is to review Autocorrelation Function (ACF) and Partial Autocorrelation Function (PACF) plots. \n",
        "\n",
        "ACF is a measure of the correlation between the timeseries with a lagged version of itself. For instance at lag 5, ACF would compare series at time instant ‘t1’…’tn’ with series at instant ‘t1-5’…’tn-5’ (t1-5 and tn being end points).\n",
        "\n",
        "PACF, on the other hand, measures the correlation between the timeseries with a lagged version of itself but after eliminating the variations explained by the intervening comparisons. Eg. at lag 5, it will check the correlation but remove the effects already explained by lags 1 to 4. "
      ]
    },
    {
      "cell_type": "code",
      "metadata": {
        "colab": {
          "base_uri": "https://localhost:8080/",
          "height": 191
        },
        "id": "ltXoG2e56ehp",
        "outputId": "e68532bd-b16c-475c-cf6c-de06c05a6e6e"
      },
      "source": [
        "# figure for subplots\n",
        "plt.figure(figsize = (12, 16))\n",
        "\n",
        "# acf and pacf for department 38 (A)\n",
        "plt.subplot(621); plot_acf(sales_a38, lags = 52, ax = plt.gca(), color = c)\n",
        "plt.subplot(622); plot_pacf(sales_a38, lags = 52, ax = plt.gca(), color = c)\n",
        "\n",
        "plt.show()"
      ],
      "execution_count": null,
      "outputs": [
        {
          "output_type": "display_data",
          "data": {
            "image/png": "[encoded data removed]",
            "text/plain": [
              "<Figure size 864x1152 with 2 Axes>"
            ]
          },
          "metadata": {
            "tags": []
          }
        }
      ]
    },
    {
      "cell_type": "markdown",
      "metadata": {
        "id": "P_3LMVrS9_Wu"
      },
      "source": [
        "Those plots are showing the correlation of the series with itself, lagged by x time units.We see the randomn of the time serie.\n",
        "\n",
        "The Department show seasonalities at particular lags. There is a weekly trend with \n",
        "- positive spikes at each 26th, 39th observations\n",
        "- negative spikes at each 30th, 36th, 47th observations. \n",
        "\n",
        "The holidays occuring at weeks W48 are Thanksgiving, Christmas is at W52."
      ]
    },
    {
      "cell_type": "markdown",
      "metadata": {
        "id": "X8sY4QqvkeYH"
      },
      "source": [
        "## Time series analysis and forecasting with Prophet\n",
        "#### Forecasting for the next 12 weeks for the depart.38 of an A-type store."
      ]
    },
    {
      "cell_type": "markdown",
      "metadata": {
        "id": "AfbUlfLCkr9D"
      },
      "source": [
        "Prophet is a procedure developed by Facebook for forecasting time series. It is based on an additive model where non-linear trends are fit with yearly and weekly seasonality, plus holidays."
      ]
    },
    {
      "cell_type": "code",
      "metadata": {
        "id": "kHFwXn9zlGSY"
      },
      "source": [
        "# importing data\n",
        "df = pd.read_csv('/content/drive/MyDrive/Colab Notebooks/projet retail/sales data-set.csv',\n",
        "                   parse_dates = True, low_memory = False, index_col = 'Date')\n",
        "\n",
        "# remove no sales\n",
        "df = df[df['Weekly_Sales'] != 0]\n",
        "\n",
        "# sales for the store number 6 (Store Type A), department number 38.\n",
        "sales = df[(df.Store == 6) & (df.Dept == 38)].loc[:, ['Weekly_Sales']]\n",
        "sales = sales.resample('W').sum()"
      ],
      "execution_count": null,
      "outputs": []
    },
    {
      "cell_type": "code",
      "metadata": {
        "colab": {
          "base_uri": "https://localhost:8080/",
          "height": 197
        },
        "id": "aX3JQYtXnnDs",
        "outputId": "d8d2df9b-2e0a-44b9-ce4b-74a45ea1364f"
      },
      "source": [
        "# a requirement from prophet is that every variables should have specific names\n",
        "sales.reset_index(inplace= True)\n",
        "sales = sales.rename(columns = {'Date': 'ds',\n",
        "                                'Weekly_Sales': 'y'})\n",
        "# remove introduced no sales values due to resampling\n",
        "sales = sales[sales.y != 0]\n",
        "sales.head()"
      ],
      "execution_count": null,
      "outputs": [
        {
          "output_type": "execute_result",
          "data": {
            "text/html": [
              "<div>\n",
              "<style scoped>\n",
              "    .dataframe tbody tr th:only-of-type {\n",
              "        vertical-align: middle;\n",
              "    }\n",
              "\n",
              "    .dataframe tbody tr th {\n",
              "        vertical-align: top;\n",
              "    }\n",
              "\n",
              "    .dataframe thead th {\n",
              "        text-align: right;\n",
              "    }\n",
              "</style>\n",
              "<table border=\"1\" class=\"dataframe\">\n",
              "  <thead>\n",
              "    <tr style=\"text-align: right;\">\n",
              "      <th></th>\n",
              "      <th>ds</th>\n",
              "      <th>y</th>\n",
              "    </tr>\n",
              "  </thead>\n",
              "  <tbody>\n",
              "    <tr>\n",
              "      <th>0</th>\n",
              "      <td>2010-01-10</td>\n",
              "      <td>74960.52</td>\n",
              "    </tr>\n",
              "    <tr>\n",
              "      <th>4</th>\n",
              "      <td>2010-02-07</td>\n",
              "      <td>190354.92</td>\n",
              "    </tr>\n",
              "    <tr>\n",
              "      <th>6</th>\n",
              "      <td>2010-02-21</td>\n",
              "      <td>103021.56</td>\n",
              "    </tr>\n",
              "    <tr>\n",
              "      <th>7</th>\n",
              "      <td>2010-02-28</td>\n",
              "      <td>99082.28</td>\n",
              "    </tr>\n",
              "    <tr>\n",
              "      <th>9</th>\n",
              "      <td>2010-03-14</td>\n",
              "      <td>159181.77</td>\n",
              "    </tr>\n",
              "  </tbody>\n",
              "</table>\n",
              "</div>"
            ],
            "text/plain": [
              "          ds          y\n",
              "0 2010-01-10   74960.52\n",
              "4 2010-02-07  190354.92\n",
              "6 2010-02-21  103021.56\n",
              "7 2010-02-28   99082.28\n",
              "9 2010-03-14  159181.77"
            ]
          },
          "metadata": {
            "tags": []
          },
          "execution_count": 106
        }
      ]
    },
    {
      "cell_type": "code",
      "metadata": {
        "colab": {
          "base_uri": "https://localhost:8080/",
          "height": 284
        },
        "id": "GCXPBcoynz-S",
        "outputId": "209db896-cb54-4465-a323-8d9e6d07003f"
      },
      "source": [
        "# plot weekly sales\n",
        "ax = sales.set_index('ds').plot(figsize = (12, 4), color = c)\n",
        "ax.set_ylabel('Weekly Sales')\n",
        "ax.set_xlabel('Date')\n",
        "plt.show()"
      ],
      "execution_count": null,
      "outputs": [
        {
          "output_type": "display_data",
          "data": {
            "image/png": "[encoded data removed]",
            "text/plain": [
              "<Figure size 864x288 with 1 Axes>"
            ]
          },
          "metadata": {
            "tags": []
          }
        }
      ]
    },
    {
      "cell_type": "markdown",
      "metadata": {
        "id": "tWahPSSlpimv"
      },
      "source": [
        "### Modeling Holidays"
      ]
    },
    {
      "cell_type": "markdown",
      "metadata": {
        "id": "uVgUcFsspklI"
      },
      "source": [
        "Prophet also allows to model for holidays."
      ]
    },
    {
      "cell_type": "code",
      "metadata": {
        "id": "oBITKH9wx098"
      },
      "source": [
        "df.reset_index(inplace= True)"
      ],
      "execution_count": null,
      "outputs": []
    },
    {
      "cell_type": "code",
      "metadata": {
        "colab": {
          "base_uri": "https://localhost:8080/",
          "height": 197
        },
        "id": "A7mhflN4p2So",
        "outputId": "1f5cd574-58ce-4e00-aa9f-ef047a6b29b6"
      },
      "source": [
        "# create holidays dataframe\n",
        "val_holidays = df[df.IsHoliday == True].loc[:, 'Date'].values\n",
        "holidays = pd.DataFrame({'holiday': 'IsHolidays',\n",
        "                        'ds': pd.to_datetime(val_holidays)})\n",
        "   \n",
        "holidays.tail()"
      ],
      "execution_count": null,
      "outputs": [
        {
          "output_type": "execute_result",
          "data": {
            "text/html": [
              "<div>\n",
              "<style scoped>\n",
              "    .dataframe tbody tr th:only-of-type {\n",
              "        vertical-align: middle;\n",
              "    }\n",
              "\n",
              "    .dataframe tbody tr th {\n",
              "        vertical-align: top;\n",
              "    }\n",
              "\n",
              "    .dataframe thead th {\n",
              "        text-align: right;\n",
              "    }\n",
              "</style>\n",
              "<table border=\"1\" class=\"dataframe\">\n",
              "  <thead>\n",
              "    <tr style=\"text-align: right;\">\n",
              "      <th></th>\n",
              "      <th>holiday</th>\n",
              "      <th>ds</th>\n",
              "    </tr>\n",
              "  </thead>\n",
              "  <tbody>\n",
              "    <tr>\n",
              "      <th>29653</th>\n",
              "      <td>IsHolidays</td>\n",
              "      <td>2011-09-09</td>\n",
              "    </tr>\n",
              "    <tr>\n",
              "      <th>29654</th>\n",
              "      <td>IsHolidays</td>\n",
              "      <td>2011-11-25</td>\n",
              "    </tr>\n",
              "    <tr>\n",
              "      <th>29655</th>\n",
              "      <td>IsHolidays</td>\n",
              "      <td>2011-12-30</td>\n",
              "    </tr>\n",
              "    <tr>\n",
              "      <th>29656</th>\n",
              "      <td>IsHolidays</td>\n",
              "      <td>2012-10-02</td>\n",
              "    </tr>\n",
              "    <tr>\n",
              "      <th>29657</th>\n",
              "      <td>IsHolidays</td>\n",
              "      <td>2012-07-09</td>\n",
              "    </tr>\n",
              "  </tbody>\n",
              "</table>\n",
              "</div>"
            ],
            "text/plain": [
              "          holiday         ds\n",
              "29653  IsHolidays 2011-09-09\n",
              "29654  IsHolidays 2011-11-25\n",
              "29655  IsHolidays 2011-12-30\n",
              "29656  IsHolidays 2012-10-02\n",
              "29657  IsHolidays 2012-07-09"
            ]
          },
          "metadata": {
            "tags": []
          },
          "execution_count": 109
        }
      ]
    },
    {
      "cell_type": "code",
      "metadata": {
        "colab": {
          "base_uri": "https://localhost:8080/",
          "height": 275
        },
        "id": "myppTj8Vq296",
        "outputId": "62ef8687-9b30-4687-d10b-db3ebd7e0d40"
      },
      "source": [
        "# set the uncertainty interval to 95% (the Prophet default is 80%)\n",
        "my_model = Prophet(interval_width = 0.95, weekly_seasonality= False, daily_seasonality=False, seasonality_prior_scale=1.0,\n",
        "                   holidays = holidays)\n",
        "my_model.fit(sales)\n",
        "\n",
        "# dataframe that extends into future 12 weeks \n",
        "future_dates = my_model.make_future_dataframe(periods = 12, freq='W')\n",
        "\n",
        "print(\"First week to forecast.\")\n",
        "future_dates.tail(7)"
      ],
      "execution_count": null,
      "outputs": [
        {
          "output_type": "stream",
          "text": [
            "First week to forecast.\n"
          ],
          "name": "stdout"
        },
        {
          "output_type": "execute_result",
          "data": {
            "text/html": [
              "<div>\n",
              "<style scoped>\n",
              "    .dataframe tbody tr th:only-of-type {\n",
              "        vertical-align: middle;\n",
              "    }\n",
              "\n",
              "    .dataframe tbody tr th {\n",
              "        vertical-align: top;\n",
              "    }\n",
              "\n",
              "    .dataframe thead th {\n",
              "        text-align: right;\n",
              "    }\n",
              "</style>\n",
              "<table border=\"1\" class=\"dataframe\">\n",
              "  <thead>\n",
              "    <tr style=\"text-align: right;\">\n",
              "      <th></th>\n",
              "      <th>ds</th>\n",
              "    </tr>\n",
              "  </thead>\n",
              "  <tbody>\n",
              "    <tr>\n",
              "      <th>132</th>\n",
              "      <td>2013-01-27</td>\n",
              "    </tr>\n",
              "    <tr>\n",
              "      <th>133</th>\n",
              "      <td>2013-02-03</td>\n",
              "    </tr>\n",
              "    <tr>\n",
              "      <th>134</th>\n",
              "      <td>2013-02-10</td>\n",
              "    </tr>\n",
              "    <tr>\n",
              "      <th>135</th>\n",
              "      <td>2013-02-17</td>\n",
              "    </tr>\n",
              "    <tr>\n",
              "      <th>136</th>\n",
              "      <td>2013-02-24</td>\n",
              "    </tr>\n",
              "    <tr>\n",
              "      <th>137</th>\n",
              "      <td>2013-03-03</td>\n",
              "    </tr>\n",
              "    <tr>\n",
              "      <th>138</th>\n",
              "      <td>2013-03-10</td>\n",
              "    </tr>\n",
              "  </tbody>\n",
              "</table>\n",
              "</div>"
            ],
            "text/plain": [
              "            ds\n",
              "132 2013-01-27\n",
              "133 2013-02-03\n",
              "134 2013-02-10\n",
              "135 2013-02-17\n",
              "136 2013-02-24\n",
              "137 2013-03-03\n",
              "138 2013-03-10"
            ]
          },
          "metadata": {
            "tags": []
          },
          "execution_count": 110
        }
      ]
    },
    {
      "cell_type": "code",
      "metadata": {
        "colab": {
          "base_uri": "https://localhost:8080/",
          "height": 257
        },
        "id": "LKOeNN43rhjh",
        "outputId": "4904b2f4-09d7-4660-e26d-f3f22bd037b9"
      },
      "source": [
        "# predictions\n",
        "forecast = my_model.predict(future_dates)\n",
        "\n",
        "# preditions for last week\n",
        "forecast[['ds', 'yhat', 'yhat_lower', 'yhat_upper']].tail(7)"
      ],
      "execution_count": null,
      "outputs": [
        {
          "output_type": "execute_result",
          "data": {
            "text/html": [
              "<div>\n",
              "<style scoped>\n",
              "    .dataframe tbody tr th:only-of-type {\n",
              "        vertical-align: middle;\n",
              "    }\n",
              "\n",
              "    .dataframe tbody tr th {\n",
              "        vertical-align: top;\n",
              "    }\n",
              "\n",
              "    .dataframe thead th {\n",
              "        text-align: right;\n",
              "    }\n",
              "</style>\n",
              "<table border=\"1\" class=\"dataframe\">\n",
              "  <thead>\n",
              "    <tr style=\"text-align: right;\">\n",
              "      <th></th>\n",
              "      <th>ds</th>\n",
              "      <th>yhat</th>\n",
              "      <th>yhat_lower</th>\n",
              "      <th>yhat_upper</th>\n",
              "    </tr>\n",
              "  </thead>\n",
              "  <tbody>\n",
              "    <tr>\n",
              "      <th>132</th>\n",
              "      <td>2013-01-27</td>\n",
              "      <td>75318.093284</td>\n",
              "      <td>25255.322565</td>\n",
              "      <td>127658.743483</td>\n",
              "    </tr>\n",
              "    <tr>\n",
              "      <th>133</th>\n",
              "      <td>2013-02-03</td>\n",
              "      <td>94856.003145</td>\n",
              "      <td>45235.114018</td>\n",
              "      <td>147981.606997</td>\n",
              "    </tr>\n",
              "    <tr>\n",
              "      <th>134</th>\n",
              "      <td>2013-02-10</td>\n",
              "      <td>104071.927545</td>\n",
              "      <td>54487.261940</td>\n",
              "      <td>157036.333554</td>\n",
              "    </tr>\n",
              "    <tr>\n",
              "      <th>135</th>\n",
              "      <td>2013-02-17</td>\n",
              "      <td>92284.968214</td>\n",
              "      <td>32634.821628</td>\n",
              "      <td>144654.739505</td>\n",
              "    </tr>\n",
              "    <tr>\n",
              "      <th>136</th>\n",
              "      <td>2013-02-24</td>\n",
              "      <td>67155.278699</td>\n",
              "      <td>14811.349224</td>\n",
              "      <td>117087.595909</td>\n",
              "    </tr>\n",
              "    <tr>\n",
              "      <th>137</th>\n",
              "      <td>2013-03-03</td>\n",
              "      <td>48811.654841</td>\n",
              "      <td>-3102.213351</td>\n",
              "      <td>106542.441294</td>\n",
              "    </tr>\n",
              "    <tr>\n",
              "      <th>138</th>\n",
              "      <td>2013-03-10</td>\n",
              "      <td>50132.968700</td>\n",
              "      <td>-2877.298233</td>\n",
              "      <td>102901.153902</td>\n",
              "    </tr>\n",
              "  </tbody>\n",
              "</table>\n",
              "</div>"
            ],
            "text/plain": [
              "            ds           yhat    yhat_lower     yhat_upper\n",
              "132 2013-01-27   75318.093284  25255.322565  127658.743483\n",
              "133 2013-02-03   94856.003145  45235.114018  147981.606997\n",
              "134 2013-02-10  104071.927545  54487.261940  157036.333554\n",
              "135 2013-02-17   92284.968214  32634.821628  144654.739505\n",
              "136 2013-02-24   67155.278699  14811.349224  117087.595909\n",
              "137 2013-03-03   48811.654841  -3102.213351  106542.441294\n",
              "138 2013-03-10   50132.968700  -2877.298233  102901.153902"
            ]
          },
          "metadata": {
            "tags": []
          },
          "execution_count": 111
        }
      ]
    },
    {
      "cell_type": "markdown",
      "metadata": {
        "id": "B0voT_f6r__q"
      },
      "source": [
        "The forecast object here is a new dataframe that includes a column yhat with the forecast, as well as columns for components and uncertainty intervals."
      ]
    },
    {
      "cell_type": "code",
      "metadata": {
        "id": "sMNo5F4KrhfP"
      },
      "source": [
        "fc = forecast[['ds', 'yhat']].rename(columns = {'Date': 'ds', 'Forecast': 'yhat'})"
      ],
      "execution_count": null,
      "outputs": []
    },
    {
      "cell_type": "markdown",
      "metadata": {
        "id": "4P1SL2FbsX8w"
      },
      "source": [
        "The observed values of our time serie are plotted the black dots, the forecasted values (blue line) and the uncertainty intervals of our forecasts (the blue shaded regions)."
      ]
    },
    {
      "cell_type": "code",
      "metadata": {
        "colab": {
          "base_uri": "https://localhost:8080/",
          "height": 207
        },
        "id": "KjcUigHXKOfb",
        "outputId": "52f74e39-090d-4796-aa1e-ccbbd720d33a"
      },
      "source": [
        "forecast.head(3)"
      ],
      "execution_count": null,
      "outputs": [
        {
          "output_type": "execute_result",
          "data": {
            "text/html": [
              "<div>\n",
              "<style scoped>\n",
              "    .dataframe tbody tr th:only-of-type {\n",
              "        vertical-align: middle;\n",
              "    }\n",
              "\n",
              "    .dataframe tbody tr th {\n",
              "        vertical-align: top;\n",
              "    }\n",
              "\n",
              "    .dataframe thead th {\n",
              "        text-align: right;\n",
              "    }\n",
              "</style>\n",
              "<table border=\"1\" class=\"dataframe\">\n",
              "  <thead>\n",
              "    <tr style=\"text-align: right;\">\n",
              "      <th></th>\n",
              "      <th>ds</th>\n",
              "      <th>trend</th>\n",
              "      <th>yhat_lower</th>\n",
              "      <th>yhat_upper</th>\n",
              "      <th>trend_lower</th>\n",
              "      <th>trend_upper</th>\n",
              "      <th>IsHolidays</th>\n",
              "      <th>IsHolidays_lower</th>\n",
              "      <th>IsHolidays_upper</th>\n",
              "      <th>additive_terms</th>\n",
              "      <th>additive_terms_lower</th>\n",
              "      <th>additive_terms_upper</th>\n",
              "      <th>holidays</th>\n",
              "      <th>holidays_lower</th>\n",
              "      <th>holidays_upper</th>\n",
              "      <th>yearly</th>\n",
              "      <th>yearly_lower</th>\n",
              "      <th>yearly_upper</th>\n",
              "      <th>multiplicative_terms</th>\n",
              "      <th>multiplicative_terms_lower</th>\n",
              "      <th>multiplicative_terms_upper</th>\n",
              "      <th>yhat</th>\n",
              "    </tr>\n",
              "  </thead>\n",
              "  <tbody>\n",
              "    <tr>\n",
              "      <th>0</th>\n",
              "      <td>2010-01-10</td>\n",
              "      <td>107577.298009</td>\n",
              "      <td>45122.997025</td>\n",
              "      <td>147456.305547</td>\n",
              "      <td>107577.298009</td>\n",
              "      <td>107577.298009</td>\n",
              "      <td>0.0</td>\n",
              "      <td>0.0</td>\n",
              "      <td>0.0</td>\n",
              "      <td>-11507.393014</td>\n",
              "      <td>-11507.393014</td>\n",
              "      <td>-11507.393014</td>\n",
              "      <td>0.0</td>\n",
              "      <td>0.0</td>\n",
              "      <td>0.0</td>\n",
              "      <td>-11507.393014</td>\n",
              "      <td>-11507.393014</td>\n",
              "      <td>-11507.393014</td>\n",
              "      <td>0.0</td>\n",
              "      <td>0.0</td>\n",
              "      <td>0.0</td>\n",
              "      <td>96069.904995</td>\n",
              "    </tr>\n",
              "    <tr>\n",
              "      <th>1</th>\n",
              "      <td>2010-02-07</td>\n",
              "      <td>106615.060502</td>\n",
              "      <td>88064.037729</td>\n",
              "      <td>190756.492851</td>\n",
              "      <td>106615.060502</td>\n",
              "      <td>106615.060502</td>\n",
              "      <td>0.0</td>\n",
              "      <td>0.0</td>\n",
              "      <td>0.0</td>\n",
              "      <td>33139.400324</td>\n",
              "      <td>33139.400324</td>\n",
              "      <td>33139.400324</td>\n",
              "      <td>0.0</td>\n",
              "      <td>0.0</td>\n",
              "      <td>0.0</td>\n",
              "      <td>33139.400324</td>\n",
              "      <td>33139.400324</td>\n",
              "      <td>33139.400324</td>\n",
              "      <td>0.0</td>\n",
              "      <td>0.0</td>\n",
              "      <td>0.0</td>\n",
              "      <td>139754.460826</td>\n",
              "    </tr>\n",
              "    <tr>\n",
              "      <th>2</th>\n",
              "      <td>2010-02-21</td>\n",
              "      <td>106133.941748</td>\n",
              "      <td>60379.727097</td>\n",
              "      <td>172670.540619</td>\n",
              "      <td>106133.941748</td>\n",
              "      <td>106133.941748</td>\n",
              "      <td>0.0</td>\n",
              "      <td>0.0</td>\n",
              "      <td>0.0</td>\n",
              "      <td>10795.900983</td>\n",
              "      <td>10795.900983</td>\n",
              "      <td>10795.900983</td>\n",
              "      <td>0.0</td>\n",
              "      <td>0.0</td>\n",
              "      <td>0.0</td>\n",
              "      <td>10795.900983</td>\n",
              "      <td>10795.900983</td>\n",
              "      <td>10795.900983</td>\n",
              "      <td>0.0</td>\n",
              "      <td>0.0</td>\n",
              "      <td>0.0</td>\n",
              "      <td>116929.842732</td>\n",
              "    </tr>\n",
              "  </tbody>\n",
              "</table>\n",
              "</div>"
            ],
            "text/plain": [
              "          ds          trend  ...  multiplicative_terms_upper           yhat\n",
              "0 2010-01-10  107577.298009  ...                         0.0   96069.904995\n",
              "1 2010-02-07  106615.060502  ...                         0.0  139754.460826\n",
              "2 2010-02-21  106133.941748  ...                         0.0  116929.842732\n",
              "\n",
              "[3 rows x 22 columns]"
            ]
          },
          "metadata": {
            "tags": []
          },
          "execution_count": 113
        }
      ]
    },
    {
      "cell_type": "code",
      "metadata": {
        "colab": {
          "base_uri": "https://localhost:8080/",
          "height": 364
        },
        "id": "2KzJgGiM_psz",
        "outputId": "9e3db01a-3d5f-41d0-d59b-74d302b8c31c"
      },
      "source": [
        "# Plot the forecast\r\n",
        "f, ax = plt.subplots(1)\r\n",
        "f.set_figheight(5)\r\n",
        "f.set_figwidth(15)\r\n",
        "fig = my_model.plot(forecast,\r\n",
        "                 ax=ax)\r\n",
        "plt.show()"
      ],
      "execution_count": null,
      "outputs": [
        {
          "output_type": "display_data",
          "data": {
            "image/png": "[encoded data removed]",
            "text/plain": [
              "<Figure size 1080x360 with 1 Axes>"
            ]
          },
          "metadata": {
            "tags": []
          }
        }
      ]
    },
    {
      "cell_type": "markdown",
      "metadata": {
        "id": "GEiVWv9KCF90"
      },
      "source": [
        "Let us reveal how daily, weekly and yearly patterns of the time serie plus included holidays contribute to the overall forecasted values."
      ]
    },
    {
      "cell_type": "code",
      "metadata": {
        "colab": {
          "base_uri": "https://localhost:8080/",
          "height": 653
        },
        "id": "Jovxi5AcCE2z",
        "outputId": "b32e51d8-4f19-41f5-fb7d-4103a6824e6f"
      },
      "source": [
        "my_model.plot_components(forecast);"
      ],
      "execution_count": null,
      "outputs": [
        {
          "output_type": "display_data",
          "data": {
            "image/png": "[encoded data removed]",
            "text/plain": [
              "<Figure size 648x648 with 3 Axes>"
            ]
          },
          "metadata": {
            "tags": []
          }
        }
      ]
    },
    {
      "cell_type": "markdown",
      "metadata": {
        "id": "5PZdEgDhFNNZ"
      },
      "source": [
        "The first plot shows that the monthly sales of the department has been linearly decreasing  over time. The third plot shows that the most buzy season occurs during february according to the model.\n"
      ]
    },
    {
      "cell_type": "markdown",
      "metadata": {
        "id": "_E2uuAlaJlwy"
      },
      "source": [
        "### Error metrics"
      ]
    },
    {
      "cell_type": "code",
      "metadata": {
        "colab": {
          "base_uri": "https://localhost:8080/"
        },
        "id": "nP4rv04NJpO7",
        "outputId": "6d357e75-ddca-43df-e278-362c0bc5a91c"
      },
      "source": [
        "mean_squared_error(y_true=sales['y'],\r\n",
        "                   y_pred=forecast.loc[:len(sales)-1,'yhat'])"
      ],
      "execution_count": null,
      "outputs": [
        {
          "output_type": "execute_result",
          "data": {
            "text/plain": [
              "726200777.3101498"
            ]
          },
          "metadata": {
            "tags": []
          },
          "execution_count": 116
        }
      ]
    },
    {
      "cell_type": "code",
      "metadata": {
        "colab": {
          "base_uri": "https://localhost:8080/"
        },
        "id": "YgIEWwEMMPfw",
        "outputId": "c20b556e-b5f5-4ffe-8933-e6ef4f547777"
      },
      "source": [
        "mean_absolute_error(y_true=sales['y'],\r\n",
        "                   y_pred=forecast.loc[:len(sales)-1,'yhat'])"
      ],
      "execution_count": null,
      "outputs": [
        {
          "output_type": "execute_result",
          "data": {
            "text/plain": [
              "19043.998985615424"
            ]
          },
          "metadata": {
            "tags": []
          },
          "execution_count": 117
        }
      ]
    },
    {
      "cell_type": "code",
      "metadata": {
        "colab": {
          "base_uri": "https://localhost:8080/"
        },
        "id": "dq9jLpFDMeqh",
        "outputId": "56b2ae33-80da-43b9-9c7f-03c1561b23df"
      },
      "source": [
        "def mean_absolute_percentage_error(y_true, y_pred): \r\n",
        "    \"\"\"Calculates MAPE given y_true and y_pred\"\"\"\r\n",
        "    y_true, y_pred = np.array(y_true), np.array(y_pred)\r\n",
        "    return np.mean(np.abs((y_true - y_pred) / y_true)) * 100\r\n",
        "\r\n",
        "mean_absolute_percentage_error(y_true=sales['y'],\r\n",
        "                   y_pred=forecast.loc[:len(sales)-1,'yhat'])"
      ],
      "execution_count": null,
      "outputs": [
        {
          "output_type": "execute_result",
          "data": {
            "text/plain": [
              "19.785871909273393"
            ]
          },
          "metadata": {
            "tags": []
          },
          "execution_count": 118
        }
      ]
    },
    {
      "cell_type": "markdown",
      "metadata": {
        "id": "znfRWO9pMqcW"
      },
      "source": [
        "RMSE error is 726200777 // \r\n",
        "MAE error is 19044.00 //\r\n",
        "MAPE error is 19.8%"
      ]
    }
  ]
}